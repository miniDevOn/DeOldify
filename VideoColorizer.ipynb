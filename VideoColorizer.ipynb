{
 "cells": [
  {
   "cell_type": "code",
   "execution_count": null,
   "metadata": {},
   "outputs": [],
   "source": [
    "import os\n",
    "os.environ['CUDA_VISIBLE_DEVICES']='3' "
   ]
  },
  {
   "cell_type": "code",
   "execution_count": null,
   "metadata": {},
   "outputs": [],
   "source": [
    "from fasterai.visualize import *\n",
    "plt.style.use('dark_background')\n",
    "torch.backends.cudnn.benchmark=True"
   ]
  },
  {
   "cell_type": "code",
   "execution_count": null,
   "metadata": {},
   "outputs": [],
   "source": [
    "#Adjust render_factor (int) if image doesn't look quite right (max 64 on 11GB GPU).  The default here works for most photos.  \n",
    "#It literally just is a number multiplied by 16 to get the square render resolution.  \n",
    "#Note that this doesn't affect the resolution of the final output- the output is the same resolution as the input.\n",
    "#Example:  render_factor=21 => color is rendered at 16x21 = 336x336 px.  \n",
    "render_factor=28\n",
    "\n",
    "#Specify media_url. Many sources will work (YouTube, Imgur, Twitter, Reddit, etc). \n",
    "#Complete list here: https://rg3.github.io/youtube-dl/supportedsites.html . \n",
    "#NOTE:  Make source_url None to just read from file at ./video/source/[file_name] directly without modification\n",
    "#source_url = 'https://vimeo.com/87890004'\n",
    "#source_url = 'https://www.youtube.com/watch?v=gZShc8oshtU'\n",
    "#source_url = 'https://www.youtube.com/watch?v=fk6qiJjEEBo'\n",
    "#source_url = 'https://twitter.com/silentmoviegifs/status/1088830101863759872'\n",
    "#source_url = 'https://i.imgur.com/Ob9pZad.gifv'\n",
    "source_url = None\n",
    "file_name = 'video15.mp4'"
   ]
  },
  {
   "cell_type": "code",
   "execution_count": 4,
   "metadata": {},
   "outputs": [],
   "source": [
    "colorizer = get_video_colorizer(render_factor=render_factor, artistic=True)"
   ]
  },
  {
   "cell_type": "code",
   "execution_count": 5,
   "metadata": {},
   "outputs": [
    {
     "name": "stdout",
     "output_type": "stream",
     "text": [
      "Video created here: video/result/video15.mp4\n"
     ]
    }
   ],
   "source": [
    "if source_url is not None:\n",
    "    colorizer.colorize_from_url(source_url, file_name)\n",
    "else:\n",
    "    colorizer.colorize_from_file_name(file_name)"
   ]
  },
  {
   "cell_type": "code",
   "execution_count": null,
   "metadata": {},
   "outputs": [],
   "source": []
  }
 ],
 "metadata": {
  "kernelspec": {
   "display_name": "Python 3",
   "language": "python",
   "name": "python3"
  },
  "language_info": {
   "codemirror_mode": {
    "name": "ipython",
    "version": 3
   },
   "file_extension": ".py",
   "mimetype": "text/x-python",
   "name": "python",
   "nbconvert_exporter": "python",
   "pygments_lexer": "ipython3",
   "version": "3.7.0"
  },
  "toc": {
   "colors": {
    "hover_highlight": "#DAA520",
    "navigate_num": "#000000",
    "navigate_text": "#333333",
    "running_highlight": "#FF0000",
    "selected_highlight": "#FFD700",
    "sidebar_border": "#EEEEEE",
    "wrapper_background": "#FFFFFF"
   },
   "moveMenuLeft": true,
   "nav_menu": {
    "height": "67px",
    "width": "252px"
   },
   "navigate_menu": true,
   "number_sections": true,
   "sideBar": true,
   "threshold": 4,
   "toc_cell": false,
   "toc_section_display": "block",
   "toc_window_display": false,
   "widenNotebook": false
  }
 },
 "nbformat": 4,
 "nbformat_minor": 2
}
