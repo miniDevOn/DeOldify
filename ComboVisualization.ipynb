{
 "cells": [
  {
   "cell_type": "code",
   "execution_count": null,
   "metadata": {},
   "outputs": [],
   "source": [
    "%matplotlib inline\n",
    "%reload_ext autoreload\n",
    "%autoreload 2"
   ]
  },
  {
   "cell_type": "code",
   "execution_count": null,
   "metadata": {},
   "outputs": [],
   "source": [
    "import multiprocessing\n",
    "import os\n",
    "from torch import autograd\n",
    "from fastai.transforms import TfmType\n",
    "from fasterai.transforms import *\n",
    "from fastai.conv_learner import *\n",
    "from fasterai.images import *\n",
    "from fasterai.dataset import *\n",
    "from fasterai.visualize import *\n",
    "from fasterai.callbacks import *\n",
    "from fasterai.loss import *\n",
    "from fasterai.modules import *\n",
    "from fasterai.training import *\n",
    "from fasterai.generators import *\n",
    "from fastai.torch_imports import *\n",
    "from pathlib import Path\n",
    "from itertools import repeat\n",
    "import tensorboardX\n",
    "plt.style.use('dark_background')\n",
    "torch.backends.cudnn.benchmark=True\n",
    "colorizer_device = torch.device('cuda:0')\n",
    "defader_device = torch.device('cuda:1') \n"
   ]
  },
  {
   "cell_type": "code",
   "execution_count": null,
   "metadata": {},
   "outputs": [],
   "source": [
    "IMAGENET = Path('data/imagenet/ILSVRC/Data/CLS-LOC/train')\n",
    "\n",
    "colorizer_path = IMAGENET.parent/('colorize_gen_192.h5')\n",
    "defader_path = IMAGENET.parent/('defade_rc_gen_256.h5')\n",
    "\n",
    "default_sz=400\n",
    "torch.backends.cudnn.benchmark=True"
   ]
  },
  {
   "cell_type": "code",
   "execution_count": null,
   "metadata": {},
   "outputs": [],
   "source": [
    "class Generator(nn.Module):\n",
    "    def __init__(self, colorizer, defader):\n",
    "        super().__init__()\n",
    "        self.colorizer = colorizer\n",
    "        self.defader = defader\n",
    "        \n",
    "    def forward(self, x):\n",
    "        x = self.colorizer(x).detach().to(device=defader_device)\n",
    "        return self.defader(x)"
   ]
  },
  {
   "cell_type": "code",
   "execution_count": null,
   "metadata": {},
   "outputs": [],
   "source": [
    "colorizer = Unet34(nf_factor=2).cuda(device=colorizer_device)\n",
    "load_model(colorizer, colorizer_path)\n",
    "colorizer = colorizer.eval()\n",
    "\n",
    "defader = Unet34(nf_factor=2).cuda(device=defader_device)\n",
    "load_model(defader, defader_path)\n",
    "defader = defader.eval()\n",
    "\n",
    "netG = Generator(colorizer, defader)\n",
    "netG = netG.eval()"
   ]
  },
  {
   "cell_type": "code",
   "execution_count": null,
   "metadata": {},
   "outputs": [],
   "source": [
    "x_tfms = [BlackAndWhiteTransform()]"
   ]
  },
  {
   "cell_type": "code",
   "execution_count": null,
   "metadata": {},
   "outputs": [],
   "source": [
    "vis = ModelImageVisualizer(default_sz=default_sz)"
   ]
  },
  {
   "cell_type": "code",
   "execution_count": null,
   "metadata": {},
   "outputs": [],
   "source": [
    "vis.plot_transformed_image(\"test_images/overmiller.jpg\", netG, tfms=x_tfms, sz=420)"
   ]
  },
  {
   "cell_type": "code",
   "execution_count": null,
   "metadata": {},
   "outputs": [],
   "source": [
    "vis.plot_transformed_image(\"test_images/einstein_beach.jpg\", netG, tfms=x_tfms,sz=600)"
   ]
  },
  {
   "cell_type": "code",
   "execution_count": null,
   "metadata": {},
   "outputs": [],
   "source": [
    "vis.plot_transformed_image(\"test_images/abe.jpg\", netG, tfms=x_tfms, sz=480)"
   ]
  },
  {
   "cell_type": "code",
   "execution_count": null,
   "metadata": {},
   "outputs": [],
   "source": [
    "vis.plot_transformed_image(\"test_images/airmen1943.jpg\", netG, tfms=x_tfms, sz=500)"
   ]
  },
  {
   "cell_type": "code",
   "execution_count": null,
   "metadata": {},
   "outputs": [],
   "source": [
    "vis.plot_transformed_image(\"test_images/20sWoman.jpg\", netG, tfms=x_tfms, sz=500)"
   ]
  },
  {
   "cell_type": "code",
   "execution_count": null,
   "metadata": {},
   "outputs": [],
   "source": [
    "vis.plot_transformed_image(\"test_images/egypt-1.jpg\", netG,sz=480)"
   ]
  },
  {
   "cell_type": "code",
   "execution_count": null,
   "metadata": {},
   "outputs": [],
   "source": [
    "vis.plot_transformed_image(\"test_images/Rutherford_Hayes.jpg\", netG, tfms=x_tfms, sz=400)"
   ]
  },
  {
   "cell_type": "code",
   "execution_count": null,
   "metadata": {},
   "outputs": [],
   "source": [
    "vis.plot_transformed_image(\"test_images/einstein_portrait.jpg\", netG, tfms=x_tfms, sz=400)"
   ]
  },
  {
   "cell_type": "code",
   "execution_count": null,
   "metadata": {},
   "outputs": [],
   "source": [
    "vis.plot_transformed_image(\"test_images/pinkerton.jpg\", netG, tfms=x_tfms, sz=500)"
   ]
  },
  {
   "cell_type": "code",
   "execution_count": null,
   "metadata": {},
   "outputs": [],
   "source": [
    "vis.plot_transformed_image(\"test_images/marilyn_woods.jpg\", netG, tfms=x_tfms, sz=440)"
   ]
  },
  {
   "cell_type": "code",
   "execution_count": null,
   "metadata": {},
   "outputs": [],
   "source": [
    "vis.plot_transformed_image(\"test_images/WaltWhitman.jpg\", netG, tfms=x_tfms, sz=280)"
   ]
  },
  {
   "cell_type": "code",
   "execution_count": null,
   "metadata": {},
   "outputs": [],
   "source": [
    "vis.plot_transformed_image(\"test_images/dorothea-lange.jpg\", netG, tfms=x_tfms,sz=460)"
   ]
  },
  {
   "cell_type": "code",
   "execution_count": null,
   "metadata": {},
   "outputs": [],
   "source": [
    "vis.plot_transformed_image(\"test_images/Hemmingway2.jpg\", netG, tfms=x_tfms)"
   ]
  },
  {
   "cell_type": "code",
   "execution_count": null,
   "metadata": {},
   "outputs": [],
   "source": [
    "vis.plot_transformed_image(\"test_images/Chief.jpg\", netG, tfms=x_tfms,sz=520)"
   ]
  },
  {
   "cell_type": "code",
   "execution_count": null,
   "metadata": {},
   "outputs": [],
   "source": [
    "vis.plot_transformed_image(\"test_images/hemmingway.jpg\", netG, tfms=x_tfms)"
   ]
  },
  {
   "cell_type": "code",
   "execution_count": null,
   "metadata": {},
   "outputs": [],
   "source": [
    "vis.plot_transformed_image(\"test_images/smoking_kid.jpg\", netG, tfms=x_tfms,sz=550)"
   ]
  },
  {
   "cell_type": "code",
   "execution_count": null,
   "metadata": {},
   "outputs": [],
   "source": [
    "vis.plot_transformed_image(\"test_images/teddy_rubble.jpg\", netG, tfms=x_tfms, sz=360)"
   ]
  },
  {
   "cell_type": "code",
   "execution_count": null,
   "metadata": {},
   "outputs": [],
   "source": [
    "vis.plot_transformed_image(\"test_images/dustbowl_2.jpg\", netG, tfms=x_tfms)"
   ]
  },
  {
   "cell_type": "code",
   "execution_count": null,
   "metadata": {},
   "outputs": [],
   "source": [
    "vis.plot_transformed_image(\"test_images/camera_man.jpg\", netG, tfms=x_tfms,sz=520)"
   ]
  },
  {
   "cell_type": "code",
   "execution_count": null,
   "metadata": {},
   "outputs": [],
   "source": [
    "vis.plot_transformed_image(\"test_images/migrant_mother.jpg\", netG, tfms=x_tfms,sz=590)"
   ]
  },
  {
   "cell_type": "code",
   "execution_count": null,
   "metadata": {},
   "outputs": [],
   "source": [
    "vis.plot_transformed_image(\"test_images/marktwain.jpg\", netG, tfms=x_tfms, sz=530)"
   ]
  },
  {
   "cell_type": "code",
   "execution_count": null,
   "metadata": {},
   "outputs": [],
   "source": [
    "vis.plot_transformed_image(\"test_images/HelenKeller.jpg\", netG, tfms=x_tfms, sz=500)"
   ]
  },
  {
   "cell_type": "code",
   "execution_count": null,
   "metadata": {},
   "outputs": [],
   "source": [
    "vis.plot_transformed_image(\"test_images/Evelyn_Nesbit.jpg\", netG, tfms=x_tfms, sz=580)"
   ]
  },
  {
   "cell_type": "code",
   "execution_count": null,
   "metadata": {},
   "outputs": [],
   "source": [
    "vis.plot_transformed_image(\"test_images/Eddie-Adams.jpg\", netG, tfms=x_tfms, sz=460)"
   ]
  },
  {
   "cell_type": "code",
   "execution_count": null,
   "metadata": {},
   "outputs": [],
   "source": [
    "vis.plot_transformed_image(\"test_images/soldier_kids.jpg\", netG, tfms=x_tfms, sz=400)"
   ]
  },
  {
   "cell_type": "code",
   "execution_count": null,
   "metadata": {},
   "outputs": [],
   "source": [
    "vis.plot_transformed_image(\"test_images/AnselAdamsYosemite.jpg\", netG, tfms=x_tfms, sz=500)"
   ]
  },
  {
   "cell_type": "code",
   "execution_count": null,
   "metadata": {},
   "outputs": [],
   "source": [
    "vis.plot_transformed_image(\"test_images/unnamed.jpg\", netG, tfms=x_tfms, sz=550)"
   ]
  },
  {
   "cell_type": "code",
   "execution_count": null,
   "metadata": {},
   "outputs": [],
   "source": [
    "vis.plot_transformed_image(\"test_images/workers_canyon.jpg\", netG, tfms=x_tfms,sz=570)"
   ]
  },
  {
   "cell_type": "code",
   "execution_count": null,
   "metadata": {},
   "outputs": [],
   "source": [
    "vis.plot_transformed_image(\"test_images/CottonMill.jpg\", netG, tfms=x_tfms,sz=500)"
   ]
  },
  {
   "cell_type": "code",
   "execution_count": null,
   "metadata": {},
   "outputs": [],
   "source": [
    "vis.plot_transformed_image(\"test_images/JudyGarland.jpeg\", netG, tfms=x_tfms)"
   ]
  },
  {
   "cell_type": "code",
   "execution_count": null,
   "metadata": {},
   "outputs": [],
   "source": [
    "vis.plot_transformed_image(\"test_images/kids_pit.jpg\", netG, tfms=x_tfms)"
   ]
  },
  {
   "cell_type": "code",
   "execution_count": null,
   "metadata": {},
   "outputs": [],
   "source": [
    "vis.plot_transformed_image(\"test_images/last_samurai.jpg\", netG, tfms=x_tfms)"
   ]
  },
  {
   "cell_type": "code",
   "execution_count": null,
   "metadata": {},
   "outputs": [],
   "source": [
    "vis.plot_transformed_image(\"test_images/AnselAdamsWhiteChurch.jpg\", netG, tfms=x_tfms)"
   ]
  },
  {
   "cell_type": "code",
   "execution_count": null,
   "metadata": {},
   "outputs": [],
   "source": [
    "vis.plot_transformed_image(\"test_images/opium.jpg\", netG, tfms=x_tfms)"
   ]
  },
  {
   "cell_type": "code",
   "execution_count": null,
   "metadata": {},
   "outputs": [],
   "source": [
    "vis.plot_transformed_image(\"test_images/dorothea_lange_2.jpg\", netG, tfms=x_tfms)"
   ]
  },
  {
   "cell_type": "code",
   "execution_count": null,
   "metadata": {},
   "outputs": [],
   "source": [
    "vis.plot_transformed_image(\"test_images/rgs.jpg\", netG, tfms=x_tfms, sz=500)"
   ]
  },
  {
   "cell_type": "code",
   "execution_count": null,
   "metadata": {},
   "outputs": [],
   "source": [
    "vis.plot_transformed_image(\"test_images/wh-auden.jpg\", netG, tfms=x_tfms)"
   ]
  },
  {
   "cell_type": "code",
   "execution_count": null,
   "metadata": {},
   "outputs": [],
   "source": [
    "vis.plot_transformed_image(\"test_images/w-b-yeats.jpg\", netG, tfms=x_tfms)"
   ]
  },
  {
   "cell_type": "code",
   "execution_count": null,
   "metadata": {},
   "outputs": [],
   "source": [
    "vis.plot_transformed_image(\"test_images/marilyn_portrait.jpg\", netG, tfms=x_tfms)"
   ]
  },
  {
   "cell_type": "code",
   "execution_count": null,
   "metadata": {},
   "outputs": [],
   "source": [
    "vis.plot_transformed_image(\"test_images/wilson-slaverevivalmeeting.jpg\", netG, tfms=x_tfms)"
   ]
  },
  {
   "cell_type": "code",
   "execution_count": null,
   "metadata": {},
   "outputs": [],
   "source": [
    "vis.plot_transformed_image(\"test_images/ww1_trench.jpg\", netG, tfms=x_tfms)"
   ]
  },
  {
   "cell_type": "code",
   "execution_count": null,
   "metadata": {},
   "outputs": [],
   "source": [
    "vis.plot_transformed_image(\"test_images/women-bikers.png\", netG, tfms=x_tfms, sz=450)"
   ]
  },
  {
   "cell_type": "code",
   "execution_count": null,
   "metadata": {},
   "outputs": [],
   "source": [
    "vis.plot_transformed_image(\"test_images/Unidentified1855.jpg\", netG, tfms=x_tfms, sz=400)"
   ]
  },
  {
   "cell_type": "code",
   "execution_count": null,
   "metadata": {},
   "outputs": [],
   "source": [
    "vis.plot_transformed_image(\"test_images/skycrapper_lunch.jpg\", netG, tfms=x_tfms, sz=550)"
   ]
  },
  {
   "cell_type": "code",
   "execution_count": null,
   "metadata": {},
   "outputs": [],
   "source": [
    "vis.plot_transformed_image(\"test_images/sioux.jpg\", netG, tfms=x_tfms, sz=500)"
   ]
  },
  {
   "cell_type": "code",
   "execution_count": null,
   "metadata": {},
   "outputs": [],
   "source": [
    "vis.plot_transformed_image(\"test_images/school_kids.jpg\", netG, tfms=x_tfms, sz=500)"
   ]
  },
  {
   "cell_type": "code",
   "execution_count": null,
   "metadata": {},
   "outputs": [],
   "source": [
    "vis.plot_transformed_image(\"test_images/royal_family.jpg\", netG, tfms=x_tfms)"
   ]
  },
  {
   "cell_type": "code",
   "execution_count": null,
   "metadata": {},
   "outputs": [],
   "source": [
    "vis.plot_transformed_image(\"test_images/redwood_lumberjacks.jpg\", netG, tfms=x_tfms, sz=550)"
   ]
  },
  {
   "cell_type": "code",
   "execution_count": null,
   "metadata": {},
   "outputs": [],
   "source": [
    "vis.plot_transformed_image(\"test_images/poverty.jpg\", netG, tfms=x_tfms,sz=550)"
   ]
  },
  {
   "cell_type": "code",
   "execution_count": null,
   "metadata": {},
   "outputs": [],
   "source": [
    "vis.plot_transformed_image(\"test_images/paperboy.jpg\", netG, tfms=x_tfms, sz=500)"
   ]
  },
  {
   "cell_type": "code",
   "execution_count": null,
   "metadata": {},
   "outputs": [],
   "source": [
    "vis.plot_transformed_image(\"test_images/NativeAmericans.jpg\", netG, tfms=x_tfms)"
   ]
  },
  {
   "cell_type": "code",
   "execution_count": null,
   "metadata": {},
   "outputs": [],
   "source": [
    "vis.plot_transformed_image(\"test_images/helmut_newton-.jpg\", netG, tfms=x_tfms)"
   ]
  },
  {
   "cell_type": "code",
   "execution_count": null,
   "metadata": {},
   "outputs": [],
   "source": [
    "vis.plot_transformed_image(\"test_images/Greece1911.jpg\", netG, tfms=x_tfms)"
   ]
  },
  {
   "cell_type": "code",
   "execution_count": null,
   "metadata": {},
   "outputs": [],
   "source": [
    "vis.plot_transformed_image(\"test_images/FatMenClub.jpg\", netG, tfms=x_tfms)"
   ]
  },
  {
   "cell_type": "code",
   "execution_count": null,
   "metadata": {},
   "outputs": [],
   "source": [
    "vis.plot_transformed_image(\"test_images/EgyptColosus.jpg\", netG, tfms=x_tfms, sz=400)"
   ]
  },
  {
   "cell_type": "code",
   "execution_count": null,
   "metadata": {},
   "outputs": [],
   "source": [
    "vis.plot_transformed_image(\"test_images/egypt-2.jpg\", netG, tfms=x_tfms)"
   ]
  },
  {
   "cell_type": "code",
   "execution_count": null,
   "metadata": {},
   "outputs": [],
   "source": [
    "vis.plot_transformed_image(\"test_images/dustbowl_sd.jpg\", netG, tfms=x_tfms)"
   ]
  },
  {
   "cell_type": "code",
   "execution_count": null,
   "metadata": {},
   "outputs": [],
   "source": [
    "vis.plot_transformed_image(\"test_images/dustbowl_people.jpg\", netG, tfms=x_tfms, sz=500)"
   ]
  },
  {
   "cell_type": "code",
   "execution_count": null,
   "metadata": {},
   "outputs": [],
   "source": [
    "vis.plot_transformed_image(\"test_images/dustbowl_5.jpg\", netG, tfms=x_tfms, sz=450)"
   ]
  },
  {
   "cell_type": "code",
   "execution_count": null,
   "metadata": {},
   "outputs": [],
   "source": [
    "vis.plot_transformed_image(\"test_images/dustbowl_1.jpg\", netG, tfms=x_tfms)"
   ]
  },
  {
   "cell_type": "code",
   "execution_count": null,
   "metadata": {},
   "outputs": [],
   "source": [
    "vis.plot_transformed_image(\"test_images/DriveThroughGiantTree.jpg\", netG, tfms=x_tfms, sz=500)"
   ]
  },
  {
   "cell_type": "code",
   "execution_count": null,
   "metadata": {},
   "outputs": [],
   "source": [
    "vis.plot_transformed_image(\"test_images/covered-wagons-traveling.jpg\", netG, tfms=x_tfms, sz=500)"
   ]
  },
  {
   "cell_type": "code",
   "execution_count": null,
   "metadata": {},
   "outputs": [],
   "source": [
    "vis.plot_transformed_image(\"test_images/civil-war_2.jpg\", netG, tfms=x_tfms)"
   ]
  },
  {
   "cell_type": "code",
   "execution_count": null,
   "metadata": {},
   "outputs": [],
   "source": [
    "vis.plot_transformed_image(\"test_images/civil_war_4.jpg\", netG, tfms=x_tfms, sz=500)"
   ]
  },
  {
   "cell_type": "code",
   "execution_count": null,
   "metadata": {},
   "outputs": [],
   "source": [
    "vis.plot_transformed_image(\"test_images/civil_war_3.jpg\", netG, tfms=x_tfms, sz=550)"
   ]
  },
  {
   "cell_type": "code",
   "execution_count": null,
   "metadata": {},
   "outputs": [],
   "source": [
    "vis.plot_transformed_image(\"test_images/civil_war.jpg\", netG, tfms=x_tfms, sz=540)"
   ]
  },
  {
   "cell_type": "code",
   "execution_count": null,
   "metadata": {},
   "outputs": [],
   "source": [
    "vis.plot_transformed_image(\"test_images/BritishSlum.jpg\", netG, tfms=x_tfms)"
   ]
  },
  {
   "cell_type": "code",
   "execution_count": null,
   "metadata": {},
   "outputs": [],
   "source": [
    "vis.plot_transformed_image(\"test_images/bicycles.jpg\", netG, tfms=x_tfms)"
   ]
  },
  {
   "cell_type": "code",
   "execution_count": null,
   "metadata": {},
   "outputs": [],
   "source": [
    "vis.plot_transformed_image(\"test_images/brooklyn_girls_1940s.jpg\", netG, tfms=x_tfms)"
   ]
  },
  {
   "cell_type": "code",
   "execution_count": null,
   "metadata": {},
   "outputs": [],
   "source": [
    "vis.plot_transformed_image(\"test_images/40sCouple.jpg\", netG, tfms=x_tfms)"
   ]
  },
  {
   "cell_type": "code",
   "execution_count": null,
   "metadata": {},
   "outputs": [],
   "source": [
    "vis.plot_transformed_image(\"test_images/1946Wedding.jpg\", netG, tfms=x_tfms)"
   ]
  },
  {
   "cell_type": "code",
   "execution_count": null,
   "metadata": {},
   "outputs": [],
   "source": [
    "vis.plot_transformed_image(\"test_images/Dolores1920s.jpg\", netG, tfms=x_tfms)"
   ]
  },
  {
   "cell_type": "code",
   "execution_count": null,
   "metadata": {},
   "outputs": [],
   "source": [
    "vis.plot_transformed_image(\"test_images/TitanicGym.jpg\", netG, tfms=x_tfms, sz=550)"
   ]
  },
  {
   "cell_type": "code",
   "execution_count": null,
   "metadata": {},
   "outputs": [],
   "source": [
    "vis.plot_transformed_image(\"test_images/FrenchVillage1950s.jpg\", netG, tfms=x_tfms, sz=440)"
   ]
  },
  {
   "cell_type": "code",
   "execution_count": null,
   "metadata": {},
   "outputs": [],
   "source": [
    "vis.plot_transformed_image(\"test_images/ClassDivide1930sBrittain.jpg\", netG, tfms=x_tfms)"
   ]
  },
  {
   "cell_type": "code",
   "execution_count": null,
   "metadata": {},
   "outputs": [],
   "source": [
    "vis.plot_transformed_image(\"test_images/1870sSphinx.jpg\", netG, tfms=x_tfms)"
   ]
  },
  {
   "cell_type": "code",
   "execution_count": null,
   "metadata": {},
   "outputs": [],
   "source": [
    "vis.plot_transformed_image(\"test_images/1890Surfer.png\", netG, tfms=x_tfms)"
   ]
  },
  {
   "cell_type": "code",
   "execution_count": null,
   "metadata": {},
   "outputs": [],
   "source": [
    "vis.plot_transformed_image(\"test_images/TV1930s.jpg\", netG, tfms=x_tfms, sz=500)"
   ]
  },
  {
   "cell_type": "code",
   "execution_count": null,
   "metadata": {},
   "outputs": [],
   "source": [
    "vis.plot_transformed_image(\"test_images/1864UnionSoldier.jpg\", netG, tfms=x_tfms, sz=510)"
   ]
  },
  {
   "cell_type": "code",
   "execution_count": null,
   "metadata": {},
   "outputs": [],
   "source": [
    "vis.plot_transformed_image(\"test_images/1890sMedStudents.png\", netG, tfms=x_tfms, sz=500)"
   ]
  },
  {
   "cell_type": "code",
   "execution_count": null,
   "metadata": {},
   "outputs": [],
   "source": [
    "vis.plot_transformed_image(\"test_images/BellyLaughWWI.jpg\", netG, tfms=x_tfms)"
   ]
  },
  {
   "cell_type": "code",
   "execution_count": null,
   "metadata": {},
   "outputs": [],
   "source": [
    "vis.plot_transformed_image(\"test_images/PiggyBackRide.jpg\", netG, tfms=x_tfms)"
   ]
  },
  {
   "cell_type": "code",
   "execution_count": null,
   "metadata": {},
   "outputs": [],
   "source": [
    "vis.plot_transformed_image(\"test_images/HealingTree.jpg\", netG, tfms=x_tfms)"
   ]
  },
  {
   "cell_type": "code",
   "execution_count": null,
   "metadata": {},
   "outputs": [],
   "source": [
    "vis.plot_transformed_image(\"test_images/ManPile.jpg\", netG, tfms=x_tfms, sz=450)"
   ]
  },
  {
   "cell_type": "code",
   "execution_count": null,
   "metadata": {},
   "outputs": [],
   "source": [
    "vis.plot_transformed_image(\"test_images/1910Bike.jpg\", netG, tfms=x_tfms, sz=500)"
   ]
  },
  {
   "cell_type": "code",
   "execution_count": null,
   "metadata": {},
   "outputs": [],
   "source": [
    "vis.plot_transformed_image(\"test_images/FreeportIL.jpg\", netG, tfms=x_tfms, sz=402)"
   ]
  },
  {
   "cell_type": "code",
   "execution_count": null,
   "metadata": {},
   "outputs": [],
   "source": [
    "vis.plot_transformed_image(\"test_images/DutchBabyCoupleEllis.jpg\", netG, tfms=x_tfms, sz=500)"
   ]
  },
  {
   "cell_type": "code",
   "execution_count": null,
   "metadata": {},
   "outputs": [],
   "source": [
    "vis.plot_transformed_image(\"test_images/InuitWoman1903.png\", netG, tfms=x_tfms, sz=460)"
   ]
  },
  {
   "cell_type": "code",
   "execution_count": null,
   "metadata": {},
   "outputs": [],
   "source": [
    "vis.plot_transformed_image(\"test_images/1920sDancing.jpg\", netG, tfms=x_tfms)"
   ]
  },
  {
   "cell_type": "code",
   "execution_count": null,
   "metadata": {},
   "outputs": [],
   "source": [
    "vis.plot_transformed_image(\"test_images/AirmanDad.jpg\", netG, tfms=x_tfms)"
   ]
  },
  {
   "cell_type": "code",
   "execution_count": null,
   "metadata": {},
   "outputs": [],
   "source": [
    "vis.plot_transformed_image(\"test_images/1910Racket.png\", netG, tfms=x_tfms, sz=540)"
   ]
  },
  {
   "cell_type": "code",
   "execution_count": null,
   "metadata": {},
   "outputs": [],
   "source": [
    "vis.plot_transformed_image(\"test_images/1880Paris.jpg\", netG, tfms=x_tfms, sz=520)"
   ]
  },
  {
   "cell_type": "code",
   "execution_count": null,
   "metadata": {},
   "outputs": [],
   "source": [
    "vis.plot_transformed_image(\"test_images/Deadwood1860s.png\", netG, tfms=x_tfms)"
   ]
  },
  {
   "cell_type": "code",
   "execution_count": null,
   "metadata": {},
   "outputs": [],
   "source": [
    "vis.plot_transformed_image(\"test_images/1860sSamauris.png\", netG, tfms=x_tfms)"
   ]
  },
  {
   "cell_type": "code",
   "execution_count": null,
   "metadata": {},
   "outputs": [],
   "source": [
    "vis.plot_transformed_image(\"test_images/LondonUnderground1860.jpg\", netG, tfms=x_tfms, sz=460)"
   ]
  },
  {
   "cell_type": "code",
   "execution_count": null,
   "metadata": {},
   "outputs": [],
   "source": [
    "vis.plot_transformed_image(\"test_images/Mid1800sSisters.jpg\", netG, tfms=x_tfms, sz=480)"
   ]
  },
  {
   "cell_type": "code",
   "execution_count": null,
   "metadata": {},
   "outputs": [],
   "source": [
    "vis.plot_transformed_image(\"test_images/1860Girls.jpg\", netG, tfms=x_tfms, sz=500)"
   ]
  },
  {
   "cell_type": "code",
   "execution_count": null,
   "metadata": {},
   "outputs": [],
   "source": [
    "vis.plot_transformed_image(\"test_images/SanFran1851.jpg\", netG, tfms=x_tfms, sz=480)"
   ]
  },
  {
   "cell_type": "code",
   "execution_count": null,
   "metadata": {},
   "outputs": [],
   "source": [
    "vis.plot_transformed_image(\"test_images/Kabuki1870s.png\", netG, tfms=x_tfms,sz=450)"
   ]
  },
  {
   "cell_type": "code",
   "execution_count": null,
   "metadata": {},
   "outputs": [],
   "source": [
    "vis.plot_transformed_image(\"test_images/Mormons1870s.jpg\", netG, tfms=x_tfms)"
   ]
  },
  {
   "cell_type": "code",
   "execution_count": null,
   "metadata": {},
   "outputs": [],
   "source": [
    "vis.plot_transformed_image(\"test_images/EgyptianWomenLate1800s.jpg\", netG, tfms=x_tfms)"
   ]
  },
  {
   "cell_type": "code",
   "execution_count": null,
   "metadata": {},
   "outputs": [],
   "source": [
    "vis.plot_transformed_image(\"test_images/PicadillyLate1800s.jpg\", netG, tfms=x_tfms, sz=540)"
   ]
  },
  {
   "cell_type": "code",
   "execution_count": null,
   "metadata": {},
   "outputs": [],
   "source": [
    "vis.plot_transformed_image(\"test_images/SutroBaths1880s.jpg\", netG, tfms=x_tfms)"
   ]
  },
  {
   "cell_type": "code",
   "execution_count": null,
   "metadata": {},
   "outputs": [],
   "source": [
    "vis.plot_transformed_image(\"test_images/1880sBrooklynBridge.jpg\", netG, tfms=x_tfms)"
   ]
  },
  {
   "cell_type": "code",
   "execution_count": null,
   "metadata": {},
   "outputs": [],
   "source": [
    "vis.plot_transformed_image(\"test_images/ChinaOpiumc1880.jpg\", netG, tfms=x_tfms,sz=500)"
   ]
  },
  {
   "cell_type": "code",
   "execution_count": null,
   "metadata": {},
   "outputs": [],
   "source": [
    "vis.plot_transformed_image(\"test_images/Locomotive1880s.jpg\", netG, tfms=x_tfms)"
   ]
  },
  {
   "cell_type": "code",
   "execution_count": null,
   "metadata": {},
   "outputs": [],
   "source": [
    "vis.plot_transformed_image(\"test_images/ViennaBoys1880s.png\", netG, tfms=x_tfms, sz=500)"
   ]
  },
  {
   "cell_type": "code",
   "execution_count": null,
   "metadata": {},
   "outputs": [],
   "source": [
    "vis.plot_transformed_image(\"test_images/VictorianDragQueen1880s.png\", netG, tfms=x_tfms)"
   ]
  },
  {
   "cell_type": "code",
   "execution_count": null,
   "metadata": {},
   "outputs": [],
   "source": [
    "vis.plot_transformed_image(\"test_images/Sami1880s.jpg\", netG, tfms=x_tfms,sz=420)"
   ]
  },
  {
   "cell_type": "code",
   "execution_count": null,
   "metadata": {},
   "outputs": [],
   "source": [
    "vis.plot_transformed_image(\"test_images/ArkansasCowboys1880s.jpg\", netG, tfms=x_tfms, sz=450)"
   ]
  },
  {
   "cell_type": "code",
   "execution_count": null,
   "metadata": {},
   "outputs": [],
   "source": [
    "vis.plot_transformed_image(\"test_images/Ballet1890Russia.jpg\", netG, tfms=x_tfms, sz=480)"
   ]
  },
  {
   "cell_type": "code",
   "execution_count": null,
   "metadata": {},
   "outputs": [],
   "source": [
    "vis.plot_transformed_image(\"test_images/Rottindean1890s.png\", netG, tfms=x_tfms, sz=540)"
   ]
  },
  {
   "cell_type": "code",
   "execution_count": null,
   "metadata": {},
   "outputs": [],
   "source": [
    "vis.plot_transformed_image(\"test_images/1890sPingPong.jpg\", netG, tfms=x_tfms,sz=500)"
   ]
  },
  {
   "cell_type": "code",
   "execution_count": null,
   "metadata": {},
   "outputs": [],
   "source": [
    "vis.plot_transformed_image(\"test_images/London1937.png\", netG, tfms=x_tfms, sz=500)"
   ]
  },
  {
   "cell_type": "code",
   "execution_count": null,
   "metadata": {},
   "outputs": [],
   "source": [
    "vis.plot_transformed_image(\"test_images/Harlem1932.jpg\", netG, tfms=x_tfms)"
   ]
  },
  {
   "cell_type": "code",
   "execution_count": null,
   "metadata": {},
   "outputs": [],
   "source": [
    "vis.plot_transformed_image(\"test_images/OregonTrail1870s.jpg\", netG, tfms=x_tfms)"
   ]
  },
  {
   "cell_type": "code",
   "execution_count": null,
   "metadata": {},
   "outputs": [],
   "source": [
    "vis.plot_transformed_image(\"test_images/EasterNyc1911.jpg\", netG, tfms=x_tfms, sz=532)"
   ]
  },
  {
   "cell_type": "code",
   "execution_count": null,
   "metadata": {},
   "outputs": [],
   "source": [
    "vis.plot_transformed_image(\"test_images/1899NycBlizzard.jpg\", netG, tfms=x_tfms, sz=500)"
   ]
  },
  {
   "cell_type": "code",
   "execution_count": null,
   "metadata": {},
   "outputs": [],
   "source": [
    "vis.plot_transformed_image(\"test_images/1916Sweeden.jpg\", netG, tfms=x_tfms, sz=520)"
   ]
  },
  {
   "cell_type": "code",
   "execution_count": null,
   "metadata": {},
   "outputs": [],
   "source": [
    "vis.plot_transformed_image(\"test_images/Edinburgh1920s.jpg\", netG, tfms=x_tfms, sz=480)"
   ]
  },
  {
   "cell_type": "code",
   "execution_count": null,
   "metadata": {},
   "outputs": [],
   "source": [
    "vis.plot_transformed_image(\"test_images/1890sShoeShopOhio.jpg\", netG, tfms=x_tfms, sz=500)"
   ]
  },
  {
   "cell_type": "code",
   "execution_count": null,
   "metadata": {},
   "outputs": [],
   "source": [
    "vis.plot_transformed_image(\"test_images/1890sTouristsEgypt.png\", netG, tfms=x_tfms, sz=570)"
   ]
  },
  {
   "cell_type": "code",
   "execution_count": null,
   "metadata": {},
   "outputs": [],
   "source": [
    "vis.plot_transformed_image(\"test_images/1938Reading.jpg\", netG, tfms=x_tfms, sz=455)"
   ]
  },
  {
   "cell_type": "code",
   "execution_count": null,
   "metadata": {},
   "outputs": [],
   "source": [
    "vis.plot_transformed_image(\"test_images/1850Geography.jpg\", netG, tfms=x_tfms, sz=540)"
   ]
  },
  {
   "cell_type": "code",
   "execution_count": null,
   "metadata": {},
   "outputs": [],
   "source": [
    "vis.plot_transformed_image(\"test_images/1901Electrophone.jpg\", netG, tfms=x_tfms, sz=500)"
   ]
  },
  {
   "cell_type": "code",
   "execution_count": null,
   "metadata": {},
   "outputs": [],
   "source": [
    "vis.plot_transformed_image(\"test_images/Texas1938Woman.png\", netG, tfms=x_tfms, sz=520)"
   ]
  },
  {
   "cell_type": "code",
   "execution_count": null,
   "metadata": {},
   "outputs": [],
   "source": [
    "vis.plot_transformed_image(\"test_images/MaioreWoman1895NZ.jpg\", netG, tfms=x_tfms, sz=520)"
   ]
  },
  {
   "cell_type": "code",
   "execution_count": null,
   "metadata": {},
   "outputs": [],
   "source": [
    "vis.plot_transformed_image(\"test_images/WestVirginiaHouse.jpg\", netG, tfms=x_tfms, sz=520)"
   ]
  },
  {
   "cell_type": "code",
   "execution_count": null,
   "metadata": {},
   "outputs": [],
   "source": [
    "vis.plot_transformed_image(\"test_images/1920sGuadalope.jpg\", netG, tfms=x_tfms)"
   ]
  },
  {
   "cell_type": "code",
   "execution_count": null,
   "metadata": {},
   "outputs": [],
   "source": [
    "vis.plot_transformed_image(\"test_images/1909Chicago.jpg\", netG, tfms=x_tfms, sz=540)"
   ]
  },
  {
   "cell_type": "code",
   "execution_count": null,
   "metadata": {},
   "outputs": [],
   "source": [
    "vis.plot_transformed_image(\"test_images/1920sFarmKid.jpg\", netG, tfms=x_tfms)"
   ]
  },
  {
   "cell_type": "code",
   "execution_count": null,
   "metadata": {},
   "outputs": [],
   "source": [
    "vis.plot_transformed_image(\"test_images/ParisLate1800s.jpg\", netG, tfms=x_tfms,sz=410)"
   ]
  },
  {
   "cell_type": "code",
   "execution_count": null,
   "metadata": {},
   "outputs": [],
   "source": [
    "vis.plot_transformed_image(\"test_images/1900sDaytonaBeach.png\", netG, tfms=x_tfms)"
   ]
  },
  {
   "cell_type": "code",
   "execution_count": null,
   "metadata": {},
   "outputs": [],
   "source": [
    "vis.plot_transformed_image(\"test_images/1930sGeorgia.jpg\", netG, tfms=x_tfms)"
   ]
  },
  {
   "cell_type": "code",
   "execution_count": null,
   "metadata": {},
   "outputs": [],
   "source": [
    "vis.plot_transformed_image(\"test_images/NorwegianBride1920s.jpg\", netG, tfms=x_tfms, sz=550)"
   ]
  },
  {
   "cell_type": "code",
   "execution_count": null,
   "metadata": {},
   "outputs": [],
   "source": [
    "vis.plot_transformed_image(\"test_images/Depression.jpg\", netG, tfms=x_tfms)"
   ]
  },
  {
   "cell_type": "code",
   "execution_count": null,
   "metadata": {},
   "outputs": [],
   "source": [
    "vis.plot_transformed_image(\"test_images/1888Slum.jpg\", netG, tfms=x_tfms)"
   ]
  },
  {
   "cell_type": "code",
   "execution_count": null,
   "metadata": {},
   "outputs": [],
   "source": [
    "vis.plot_transformed_image(\"test_images/LivingRoom1920Sweeden.jpg\", netG, tfms=x_tfms, sz=540)"
   ]
  },
  {
   "cell_type": "code",
   "execution_count": null,
   "metadata": {},
   "outputs": [],
   "source": [
    "vis.plot_transformed_image(\"test_images/1896NewsBoyGirl.jpg\", netG, tfms=x_tfms)"
   ]
  },
  {
   "cell_type": "code",
   "execution_count": null,
   "metadata": {},
   "outputs": [],
   "source": [
    "vis.plot_transformed_image(\"test_images/PetDucks1927.jpg\", netG, tfms=x_tfms, sz=400)"
   ]
  },
  {
   "cell_type": "code",
   "execution_count": null,
   "metadata": {},
   "outputs": [],
   "source": [
    "vis.plot_transformed_image(\"test_images/1899SodaFountain.jpg\", netG, tfms=x_tfms, sz=580)"
   ]
  },
  {
   "cell_type": "code",
   "execution_count": null,
   "metadata": {},
   "outputs": [],
   "source": [
    "vis.plot_transformed_image(\"test_images/TimesSquare1955.jpg\", netG, tfms=x_tfms)"
   ]
  },
  {
   "cell_type": "code",
   "execution_count": null,
   "metadata": {},
   "outputs": [],
   "source": [
    "vis.plot_transformed_image(\"test_images/PuppyGify.jpg\", netG, tfms=x_tfms, sz=510)"
   ]
  },
  {
   "cell_type": "code",
   "execution_count": null,
   "metadata": {},
   "outputs": [],
   "source": [
    "vis.plot_transformed_image(\"test_images/1890CliffHouseSF.jpg\", netG, tfms=x_tfms, sz=590)"
   ]
  },
  {
   "cell_type": "code",
   "execution_count": null,
   "metadata": {},
   "outputs": [],
   "source": [
    "vis.plot_transformed_image(\"test_images/1908FamilyPhoto.jpg\", netG, tfms=x_tfms, sz=520)"
   ]
  },
  {
   "cell_type": "code",
   "execution_count": null,
   "metadata": {},
   "outputs": [],
   "source": [
    "vis.plot_transformed_image(\"test_images/1900sSaloon.jpg\", netG, tfms=x_tfms, sz=560)"
   ]
  },
  {
   "cell_type": "code",
   "execution_count": null,
   "metadata": {},
   "outputs": [],
   "source": [
    "vis.plot_transformed_image(\"test_images/1890BostonHospital.jpg\", netG, tfms=x_tfms,sz=500)"
   ]
  },
  {
   "cell_type": "code",
   "execution_count": null,
   "metadata": {},
   "outputs": [],
   "source": [
    "vis.plot_transformed_image(\"test_images/1870Girl.jpg\", netG, tfms=x_tfms, sz=450)"
   ]
  },
  {
   "cell_type": "code",
   "execution_count": null,
   "metadata": {},
   "outputs": [],
   "source": [
    "vis.plot_transformed_image(\"test_images/AustriaHungaryWomen1890s.jpg\", netG, tfms=x_tfms)"
   ]
  },
  {
   "cell_type": "code",
   "execution_count": null,
   "metadata": {},
   "outputs": [],
   "source": [
    "vis.plot_transformed_image(\"test_images/Shack.jpg\", netG, tfms=x_tfms, sz=500)"
   ]
  },
  {
   "cell_type": "code",
   "execution_count": null,
   "metadata": {},
   "outputs": [],
   "source": [
    "vis.plot_transformed_image(\"test_images/Apsaroke1908.png\", netG, tfms=x_tfms, sz=400)"
   ]
  },
  {
   "cell_type": "code",
   "execution_count": null,
   "metadata": {},
   "outputs": [],
   "source": [
    "vis.plot_transformed_image(\"test_images/1948CarsGrandma.jpg\", netG, tfms=x_tfms)"
   ]
  },
  {
   "cell_type": "code",
   "execution_count": null,
   "metadata": {},
   "outputs": [],
   "source": [
    "vis.plot_transformed_image(\"test_images/PlanesManhattan1931.jpg\", netG, tfms=x_tfms)"
   ]
  },
  {
   "cell_type": "code",
   "execution_count": null,
   "metadata": {},
   "outputs": [],
   "source": [
    "vis.plot_transformed_image(\"test_images/WorriedKid1940sNyc.jpg\", netG, tfms=x_tfms)"
   ]
  },
  {
   "cell_type": "code",
   "execution_count": null,
   "metadata": {},
   "outputs": [],
   "source": [
    "vis.plot_transformed_image(\"test_images/1920sFamilyPhoto.jpg\", netG, tfms=x_tfms, sz=550)"
   ]
  },
  {
   "cell_type": "code",
   "execution_count": null,
   "metadata": {},
   "outputs": [],
   "source": [
    "vis.plot_transformed_image(\"test_images/CatWash1931.jpg\", netG, tfms=x_tfms)"
   ]
  },
  {
   "cell_type": "code",
   "execution_count": null,
   "metadata": {},
   "outputs": [],
   "source": [
    "vis.plot_transformed_image(\"test_images/1940sBeerRiver.jpg\", netG, tfms=x_tfms, sz=400)"
   ]
  },
  {
   "cell_type": "code",
   "execution_count": null,
   "metadata": {},
   "outputs": [],
   "source": [
    "vis.plot_transformed_image(\"test_images/VictorianLivingRoom.jpg\", netG, tfms=x_tfms, sz=560)"
   ]
  },
  {
   "cell_type": "code",
   "execution_count": null,
   "metadata": {},
   "outputs": [],
   "source": [
    "vis.plot_transformed_image(\"test_images/1897BlindmansBluff.jpg\", netG, tfms=x_tfms)"
   ]
  },
  {
   "cell_type": "code",
   "execution_count": null,
   "metadata": {},
   "outputs": [],
   "source": [
    "vis.plot_transformed_image(\"test_images/1874Mexico.png\", netG, tfms=x_tfms)"
   ]
  },
  {
   "cell_type": "code",
   "execution_count": null,
   "metadata": {},
   "outputs": [],
   "source": [
    "vis.plot_transformed_image(\"test_images/MadisonSquare1900.jpg\", netG, tfms=x_tfms, sz=450)"
   ]
  },
  {
   "cell_type": "code",
   "execution_count": null,
   "metadata": {},
   "outputs": [],
   "source": [
    "vis.plot_transformed_image(\"test_images/1867MusicianConstantinople.jpg\", netG, tfms=x_tfms, sz=500)"
   ]
  },
  {
   "cell_type": "code",
   "execution_count": null,
   "metadata": {},
   "outputs": [],
   "source": [
    "vis.plot_transformed_image(\"test_images/1925Girl.jpg\", netG, tfms=x_tfms, sz=500)"
   ]
  },
  {
   "cell_type": "code",
   "execution_count": null,
   "metadata": {},
   "outputs": [],
   "source": [
    "vis.plot_transformed_image(\"test_images/1907Cowboys.jpg\", netG, tfms=x_tfms, sz=500)"
   ]
  },
  {
   "cell_type": "code",
   "execution_count": null,
   "metadata": {},
   "outputs": [],
   "source": [
    "vis.plot_transformed_image(\"test_images/WWIIPeeps.jpg\", netG, tfms=x_tfms, sz=460)"
   ]
  },
  {
   "cell_type": "code",
   "execution_count": null,
   "metadata": {},
   "outputs": [],
   "source": [
    "vis.plot_transformed_image(\"test_images/BabyBigBoots.jpg\", netG, tfms=x_tfms)"
   ]
  },
  {
   "cell_type": "code",
   "execution_count": null,
   "metadata": {},
   "outputs": [],
   "source": [
    "vis.plot_transformed_image(\"test_images/1895BikeMaidens.jpg\", netG, tfms=x_tfms, sz=500)"
   ]
  },
  {
   "cell_type": "code",
   "execution_count": null,
   "metadata": {},
   "outputs": [],
   "source": [
    "vis.plot_transformed_image(\"test_images/IrishLate1800s.jpg\", netG, tfms=x_tfms,sz=500)"
   ]
  },
  {
   "cell_type": "code",
   "execution_count": null,
   "metadata": {},
   "outputs": [],
   "source": [
    "vis.plot_transformed_image(\"test_images/LibraryOfCongress1910.jpg\", netG, tfms=x_tfms,sz=520)"
   ]
  },
  {
   "cell_type": "code",
   "execution_count": null,
   "metadata": {},
   "outputs": [],
   "source": [
    "vis.plot_transformed_image(\"test_images/1875Olds.jpg\", netG, tfms=x_tfms, sz=520)"
   ]
  },
  {
   "cell_type": "code",
   "execution_count": null,
   "metadata": {},
   "outputs": [],
   "source": [
    "vis.plot_transformed_image(\"test_images/SenecaNative1908.jpg\", netG, tfms=x_tfms)"
   ]
  },
  {
   "cell_type": "code",
   "execution_count": null,
   "metadata": {},
   "outputs": [],
   "source": [
    "vis.plot_transformed_image(\"test_images/WWIHospital.jpg\", netG, tfms=x_tfms)"
   ]
  },
  {
   "cell_type": "code",
   "execution_count": null,
   "metadata": {},
   "outputs": [],
   "source": [
    "vis.plot_transformed_image(\"test_images/GreekImmigrants1905.jpg\", netG, tfms=x_tfms)"
   ]
  },
  {
   "cell_type": "code",
   "execution_count": null,
   "metadata": {},
   "outputs": [],
   "source": [
    "vis.plot_transformed_image(\"test_images/1892WaterLillies.jpg\", netG, tfms=x_tfms)"
   ]
  },
  {
   "cell_type": "code",
   "execution_count": null,
   "metadata": {},
   "outputs": [],
   "source": [
    "vis.plot_transformed_image(\"test_images/FatMensShop.jpg\", netG, tfms=x_tfms)"
   ]
  },
  {
   "cell_type": "code",
   "execution_count": null,
   "metadata": {},
   "outputs": [],
   "source": [
    "vis.plot_transformed_image(\"test_images/KidCage1930s.png\", netG, tfms=x_tfms)"
   ]
  },
  {
   "cell_type": "code",
   "execution_count": null,
   "metadata": {},
   "outputs": [],
   "source": [
    "vis.plot_transformed_image(\"test_images/FarmWomen1895.jpg\", netG, tfms=x_tfms)"
   ]
  },
  {
   "cell_type": "code",
   "execution_count": null,
   "metadata": {},
   "outputs": [],
   "source": [
    "vis.plot_transformed_image(\"test_images/NewZealand1860s.jpg\", netG, tfms=x_tfms)"
   ]
  },
  {
   "cell_type": "code",
   "execution_count": null,
   "metadata": {},
   "outputs": [],
   "source": [
    "vis.plot_transformed_image(\"test_images/JerseyShore1905.jpg\", netG, tfms=x_tfms)"
   ]
  },
  {
   "cell_type": "code",
   "execution_count": null,
   "metadata": {},
   "outputs": [],
   "source": [
    "vis.plot_transformed_image(\"test_images/LondonKidsEarly1900s.jpg\", netG, tfms=x_tfms)"
   ]
  },
  {
   "cell_type": "code",
   "execution_count": null,
   "metadata": {},
   "outputs": [],
   "source": [
    "vis.plot_transformed_image(\"test_images/NYStreetClean1906.jpg\", netG, tfms=x_tfms)"
   ]
  },
  {
   "cell_type": "code",
   "execution_count": null,
   "metadata": {},
   "outputs": [],
   "source": [
    "vis.plot_transformed_image(\"test_images/Boston1937.jpg\", netG, tfms=x_tfms)"
   ]
  },
  {
   "cell_type": "code",
   "execution_count": null,
   "metadata": {},
   "outputs": [],
   "source": [
    "vis.plot_transformed_image(\"test_images/Cork1905.jpg\", netG, tfms=x_tfms)"
   ]
  },
  {
   "cell_type": "code",
   "execution_count": null,
   "metadata": {},
   "outputs": [],
   "source": [
    "vis.plot_transformed_image(\"test_images/BoxedBedEarly1900s.jpg\", netG, tfms=x_tfms)"
   ]
  },
  {
   "cell_type": "code",
   "execution_count": null,
   "metadata": {},
   "outputs": [],
   "source": [
    "vis.plot_transformed_image(\"test_images/ZoologischerGarten1898.jpg\", netG, tfms=x_tfms)"
   ]
  },
  {
   "cell_type": "code",
   "execution_count": null,
   "metadata": {},
   "outputs": [],
   "source": [
    "vis.plot_transformed_image(\"test_images/EmpireState1930.jpg\", netG, tfms=x_tfms)"
   ]
  },
  {
   "cell_type": "code",
   "execution_count": null,
   "metadata": {},
   "outputs": [],
   "source": [
    "vis.plot_transformed_image(\"test_images/Agamemnon1919.jpg\", netG, tfms=x_tfms)"
   ]
  },
  {
   "cell_type": "code",
   "execution_count": null,
   "metadata": {},
   "outputs": [],
   "source": [
    "vis.plot_transformed_image(\"test_images/AppalachianLoggers1901.jpg\", netG, tfms=x_tfms)"
   ]
  },
  {
   "cell_type": "code",
   "execution_count": null,
   "metadata": {},
   "outputs": [],
   "source": [
    "vis.plot_transformed_image(\"test_images/WWISikhs.jpg\", netG, tfms=x_tfms)"
   ]
  },
  {
   "cell_type": "code",
   "execution_count": null,
   "metadata": {},
   "outputs": [],
   "source": [
    "vis.plot_transformed_image(\"test_images/MementoMori1865.jpg\", netG, tfms=x_tfms)"
   ]
  },
  {
   "cell_type": "code",
   "execution_count": null,
   "metadata": {},
   "outputs": [],
   "source": [
    "vis.plot_transformed_image(\"test_images/RepBrennanRadio1922.jpg\", netG, tfms=x_tfms)"
   ]
  },
  {
   "cell_type": "code",
   "execution_count": null,
   "metadata": {},
   "outputs": [],
   "source": [
    "vis.plot_transformed_image(\"test_images/Late1800sNative.jpg\", netG, tfms=x_tfms)"
   ]
  },
  {
   "cell_type": "code",
   "execution_count": null,
   "metadata": {},
   "outputs": [],
   "source": [
    "vis.plot_transformed_image(\"test_images/GasPrices1939.jpg\", netG, tfms=x_tfms, sz=520)"
   ]
  },
  {
   "cell_type": "code",
   "execution_count": null,
   "metadata": {},
   "outputs": [],
   "source": [
    "vis.plot_transformed_image(\"test_images/1933RockefellerCenter.jpg\", netG, tfms=x_tfms)"
   ]
  },
  {
   "cell_type": "code",
   "execution_count": null,
   "metadata": {},
   "outputs": [],
   "source": [
    "vis.plot_transformed_image(\"test_images/Scotland1919.jpg\", netG, tfms=x_tfms)"
   ]
  },
  {
   "cell_type": "code",
   "execution_count": null,
   "metadata": {},
   "outputs": [],
   "source": [
    "vis.plot_transformed_image(\"test_images/SchoolDance1956.jpg\", netG, tfms=x_tfms, sz=520)"
   ]
  },
  {
   "cell_type": "code",
   "execution_count": null,
   "metadata": {},
   "outputs": [],
   "source": []
  },
  {
   "cell_type": "code",
   "execution_count": null,
   "metadata": {},
   "outputs": [],
   "source": []
  },
  {
   "cell_type": "code",
   "execution_count": null,
   "metadata": {},
   "outputs": [],
   "source": []
  },
  {
   "cell_type": "code",
   "execution_count": null,
   "metadata": {},
   "outputs": [],
   "source": []
  }
 ],
 "metadata": {
  "kernelspec": {
   "display_name": "Python 3",
   "language": "python",
   "name": "python3"
  },
  "language_info": {
   "codemirror_mode": {
    "name": "ipython",
    "version": 3
   },
   "file_extension": ".py",
   "mimetype": "text/x-python",
   "name": "python",
   "nbconvert_exporter": "python",
   "pygments_lexer": "ipython3",
   "version": "3.6.5"
  },
  "toc": {
   "colors": {
    "hover_highlight": "#DAA520",
    "navigate_num": "#000000",
    "navigate_text": "#333333",
    "running_highlight": "#FF0000",
    "selected_highlight": "#FFD700",
    "sidebar_border": "#EEEEEE",
    "wrapper_background": "#FFFFFF"
   },
   "moveMenuLeft": true,
   "nav_menu": {
    "height": "67px",
    "width": "252px"
   },
   "navigate_menu": true,
   "number_sections": true,
   "sideBar": true,
   "threshold": 4,
   "toc_cell": false,
   "toc_section_display": "block",
   "toc_window_display": false,
   "widenNotebook": false
  }
 },
 "nbformat": 4,
 "nbformat_minor": 2
}
