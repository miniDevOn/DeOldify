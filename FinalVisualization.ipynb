{
 "cells": [
  {
   "cell_type": "code",
   "execution_count": null,
   "metadata": {},
   "outputs": [],
   "source": [
    "%matplotlib inline\n",
    "%reload_ext autoreload\n",
    "%autoreload 2"
   ]
  },
  {
   "cell_type": "code",
   "execution_count": null,
   "metadata": {},
   "outputs": [],
   "source": [
    "import multiprocessing\n",
    "import os\n",
    "from torch import autograd\n",
    "from fastai.transforms import TfmType\n",
    "from fasterai.transforms import *\n",
    "from fastai.conv_learner import *\n",
    "from fasterai.images import *\n",
    "from fasterai.dataset import *\n",
    "from fasterai.visualize import *\n",
    "from fasterai.callbacks import *\n",
    "from fasterai.loss import *\n",
    "from fasterai.modules import *\n",
    "from fasterai.training import *\n",
    "from fasterai.generators import *\n",
    "from fastai.torch_imports import *\n",
    "from pathlib import Path\n",
    "from itertools import repeat\n",
    "import tensorboardX\n",
    "plt.style.use('dark_background')\n",
    "torch.backends.cudnn.benchmark=True\n",
    "colorizer_device = torch.device('cuda:0')\n",
    "defader_device = torch.device('cuda:3') \n"
   ]
  },
  {
   "cell_type": "code",
   "execution_count": null,
   "metadata": {},
   "outputs": [],
   "source": [
    "IMAGENET = Path('data/imagenet/ILSVRC/Data/CLS-LOC/train')\n",
    "IMAGENET_SMALL = IMAGENET/'n01440764'\n",
    "\n",
    "colorizer_path = IMAGENET.parent/('bwc_final_gen_64.h5')\n",
    "defader_path = IMAGENET.parent/('defade3_gen_64.h5')\n",
    "\n",
    "default_sz=400\n",
    "torch.backends.cudnn.benchmark=True"
   ]
  },
  {
   "cell_type": "code",
   "execution_count": null,
   "metadata": {},
   "outputs": [],
   "source": [
    "class Generator(nn.Module):\n",
    "    def __init__(self, colorizer, defader):\n",
    "        super().__init__()\n",
    "        self.colorizer = colorizer\n",
    "        self.defader = defader\n",
    "        \n",
    "    def forward(self, x):\n",
    "        x = self.colorizer(x).detach().to(device=defader_device)\n",
    "        return self.defader(x)"
   ]
  },
  {
   "cell_type": "code",
   "execution_count": null,
   "metadata": {},
   "outputs": [],
   "source": [
    "colorizer = Unet34(nf_factor=2).cuda(device=colorizer_device)\n",
    "load_model(colorizer, colorizer_path)\n",
    "colorizer = colorizer.eval()\n",
    "\n",
    "defader = Unet34(nf_factor=2).cuda(device=defader_device)\n",
    "load_model(defader, defader_path)\n",
    "defader = defader.eval()\n",
    "\n",
    "netG = Generator(colorizer, defader)\n",
    "netG = netG.eval()"
   ]
  },
  {
   "cell_type": "code",
   "execution_count": null,
   "metadata": {},
   "outputs": [],
   "source": [
    "x_tfms = [BlackAndWhiteTransform()]\n",
    "data_loader = ImageGenDataLoader(sz=256, bs=8, path=IMAGENET_SMALL, random_seed=42, x_noise=False,\n",
    "            keep_pct=1.0, x_tfms=x_tfms)\n",
    "md = data_loader.get_model_data()"
   ]
  },
  {
   "cell_type": "code",
   "execution_count": null,
   "metadata": {},
   "outputs": [],
   "source": [
    "vis = ModelImageVisualizer(default_sz=default_sz)"
   ]
  },
  {
   "cell_type": "code",
   "execution_count": null,
   "metadata": {},
   "outputs": [],
   "source": [
    "vis.plot_transformed_image(\"data/uploaded_images/overmiller.jpg\", netG, md.val_ds, tfms=x_tfms, sz=420)"
   ]
  },
  {
   "cell_type": "code",
   "execution_count": null,
   "metadata": {},
   "outputs": [],
   "source": [
    "vis.plot_transformed_image(\"data/uploaded_images/einstein_beach.jpg\", netG, md.val_ds, tfms=x_tfms,sz=600)"
   ]
  },
  {
   "cell_type": "code",
   "execution_count": null,
   "metadata": {},
   "outputs": [],
   "source": [
    "vis.plot_transformed_image(\"data/uploaded_images/abe.jpg\", netG, md.val_ds, tfms=x_tfms, sz=480)"
   ]
  },
  {
   "cell_type": "code",
   "execution_count": null,
   "metadata": {},
   "outputs": [],
   "source": [
    "vis.plot_transformed_image(\"data/uploaded_images/airmen1943.jpg\", netG, md.val_ds, tfms=x_tfms, sz=500)"
   ]
  },
  {
   "cell_type": "code",
   "execution_count": null,
   "metadata": {},
   "outputs": [],
   "source": [
    "vis.plot_transformed_image(\"data/uploaded_images/20sWoman.jpg\", netG, md.val_ds, tfms=x_tfms, sz=500)"
   ]
  },
  {
   "cell_type": "code",
   "execution_count": null,
   "metadata": {},
   "outputs": [],
   "source": [
    "vis.plot_transformed_image(\"data/uploaded_images/egypt-1.jpg\", netG, md.val_ds,sz=480)"
   ]
  },
  {
   "cell_type": "code",
   "execution_count": null,
   "metadata": {},
   "outputs": [],
   "source": [
    "vis.plot_transformed_image(\"data/uploaded_images/Rutherford_Hayes.jpg\", netG, md.val_ds, tfms=x_tfms, sz=400)"
   ]
  },
  {
   "cell_type": "code",
   "execution_count": null,
   "metadata": {},
   "outputs": [],
   "source": [
    "vis.plot_transformed_image(\"data/uploaded_images/einstein_portrait.jpg\", netG, md.val_ds, tfms=x_tfms, sz=400)"
   ]
  },
  {
   "cell_type": "code",
   "execution_count": null,
   "metadata": {},
   "outputs": [],
   "source": [
    "vis.plot_transformed_image(\"data/uploaded_images/pinkerton.jpg\", netG, md.val_ds, tfms=x_tfms, sz=500)"
   ]
  },
  {
   "cell_type": "code",
   "execution_count": null,
   "metadata": {},
   "outputs": [],
   "source": [
    "vis.plot_transformed_image(\"data/uploaded_images/marilyn_woods.jpg\", netG, md.val_ds, tfms=x_tfms, sz=440)"
   ]
  },
  {
   "cell_type": "code",
   "execution_count": null,
   "metadata": {},
   "outputs": [],
   "source": [
    "vis.plot_transformed_image(\"data/uploaded_images/WaltWhitman.jpg\", netG, md.val_ds, tfms=x_tfms, sz=280)"
   ]
  },
  {
   "cell_type": "code",
   "execution_count": null,
   "metadata": {},
   "outputs": [],
   "source": [
    "vis.plot_transformed_image(\"data/uploaded_images/dorothea-lange.jpg\", netG, md.val_ds, tfms=x_tfms,sz=460)"
   ]
  },
  {
   "cell_type": "code",
   "execution_count": null,
   "metadata": {},
   "outputs": [],
   "source": [
    "vis.plot_transformed_image(\"data/uploaded_images/Hemmingway2.jpg\", netG, md.val_ds, tfms=x_tfms)"
   ]
  },
  {
   "cell_type": "code",
   "execution_count": null,
   "metadata": {},
   "outputs": [],
   "source": [
    "vis.plot_transformed_image(\"data/uploaded_images/Chief.jpg\", netG, md.val_ds, tfms=x_tfms,sz=520)"
   ]
  },
  {
   "cell_type": "code",
   "execution_count": null,
   "metadata": {},
   "outputs": [],
   "source": [
    "vis.plot_transformed_image(\"data/uploaded_images/hemmingway.jpg\", netG, md.val_ds, tfms=x_tfms)"
   ]
  },
  {
   "cell_type": "code",
   "execution_count": null,
   "metadata": {},
   "outputs": [],
   "source": [
    "vis.plot_transformed_image(\"data/uploaded_images/smoking_kid.jpg\", netG, md.val_ds, tfms=x_tfms,sz=550)"
   ]
  },
  {
   "cell_type": "code",
   "execution_count": null,
   "metadata": {},
   "outputs": [],
   "source": [
    "vis.plot_transformed_image(\"data/uploaded_images/teddy_rubble.jpg\", netG, md.val_ds, tfms=x_tfms, sz=360)"
   ]
  },
  {
   "cell_type": "code",
   "execution_count": null,
   "metadata": {},
   "outputs": [],
   "source": [
    "vis.plot_transformed_image(\"data/uploaded_images/dustbowl_2.jpg\", netG, md.val_ds, tfms=x_tfms)"
   ]
  },
  {
   "cell_type": "code",
   "execution_count": null,
   "metadata": {},
   "outputs": [],
   "source": [
    "vis.plot_transformed_image(\"data/uploaded_images/camera_man.jpg\", netG, md.val_ds, tfms=x_tfms,sz=520)"
   ]
  },
  {
   "cell_type": "code",
   "execution_count": null,
   "metadata": {},
   "outputs": [],
   "source": [
    "vis.plot_transformed_image(\"data/uploaded_images/migrant_mother.jpg\", netG, md.val_ds, tfms=x_tfms,sz=590)"
   ]
  },
  {
   "cell_type": "code",
   "execution_count": null,
   "metadata": {},
   "outputs": [],
   "source": [
    "vis.plot_transformed_image(\"data/uploaded_images/marktwain.jpg\", netG, md.val_ds, tfms=x_tfms, sz=530)"
   ]
  },
  {
   "cell_type": "code",
   "execution_count": null,
   "metadata": {},
   "outputs": [],
   "source": [
    "vis.plot_transformed_image(\"data/uploaded_images/HelenKeller.jpg\", netG, md.val_ds, tfms=x_tfms, sz=500)"
   ]
  },
  {
   "cell_type": "code",
   "execution_count": null,
   "metadata": {},
   "outputs": [],
   "source": [
    "vis.plot_transformed_image(\"data/uploaded_images/Evelyn_Nesbit.jpg\", netG, md.val_ds, tfms=x_tfms, sz=580)"
   ]
  },
  {
   "cell_type": "code",
   "execution_count": null,
   "metadata": {},
   "outputs": [],
   "source": [
    "vis.plot_transformed_image(\"data/uploaded_images/Eddie-Adams.jpg\", netG, md.val_ds, tfms=x_tfms, sz=460)"
   ]
  },
  {
   "cell_type": "code",
   "execution_count": null,
   "metadata": {},
   "outputs": [],
   "source": [
    "vis.plot_transformed_image(\"data/uploaded_images/soldier_kids.jpg\", netG, md.val_ds, tfms=x_tfms, sz=400)"
   ]
  },
  {
   "cell_type": "code",
   "execution_count": null,
   "metadata": {},
   "outputs": [],
   "source": [
    "vis.plot_transformed_image(\"data/uploaded_images/AnselAdamsYosemite.jpg\", netG, md.val_ds, tfms=x_tfms, sz=500)"
   ]
  },
  {
   "cell_type": "code",
   "execution_count": null,
   "metadata": {},
   "outputs": [],
   "source": [
    "vis.plot_transformed_image(\"data/uploaded_images/unnamed.jpg\", netG, md.val_ds, tfms=x_tfms, sz=550)"
   ]
  },
  {
   "cell_type": "code",
   "execution_count": null,
   "metadata": {},
   "outputs": [],
   "source": [
    "vis.plot_transformed_image(\"data/uploaded_images/workers_canyon.jpg\", netG, md.val_ds, tfms=x_tfms,sz=570)"
   ]
  },
  {
   "cell_type": "code",
   "execution_count": null,
   "metadata": {},
   "outputs": [],
   "source": [
    "vis.plot_transformed_image(\"data/uploaded_images/CottonMill.jpg\", netG, md.val_ds, tfms=x_tfms,sz=500)"
   ]
  },
  {
   "cell_type": "code",
   "execution_count": null,
   "metadata": {},
   "outputs": [],
   "source": [
    "vis.plot_transformed_image(\"data/uploaded_images/JudyGarland.jpeg\", netG, md.val_ds, tfms=x_tfms)"
   ]
  },
  {
   "cell_type": "code",
   "execution_count": null,
   "metadata": {},
   "outputs": [],
   "source": [
    "vis.plot_transformed_image(\"data/uploaded_images/kids_pit.jpg\", netG, md.val_ds, tfms=x_tfms)"
   ]
  },
  {
   "cell_type": "code",
   "execution_count": null,
   "metadata": {},
   "outputs": [],
   "source": [
    "vis.plot_transformed_image(\"data/uploaded_images/last_samurai.jpg\", netG, md.val_ds, tfms=x_tfms)"
   ]
  },
  {
   "cell_type": "code",
   "execution_count": null,
   "metadata": {},
   "outputs": [],
   "source": [
    "vis.plot_transformed_image(\"data/uploaded_images/AnselAdamsWhiteChurch.jpg\", netG, md.val_ds, tfms=x_tfms)"
   ]
  },
  {
   "cell_type": "code",
   "execution_count": null,
   "metadata": {},
   "outputs": [],
   "source": [
    "vis.plot_transformed_image(\"data/uploaded_images/opium.jpg\", netG, md.val_ds, tfms=x_tfms)"
   ]
  },
  {
   "cell_type": "code",
   "execution_count": null,
   "metadata": {},
   "outputs": [],
   "source": [
    "vis.plot_transformed_image(\"data/uploaded_images/dorothea_lange_2.jpg\", netG, md.val_ds, tfms=x_tfms)"
   ]
  },
  {
   "cell_type": "code",
   "execution_count": null,
   "metadata": {},
   "outputs": [],
   "source": [
    "vis.plot_transformed_image(\"data/uploaded_images/rgs.jpg\", netG, md.val_ds, tfms=x_tfms, sz=500)"
   ]
  },
  {
   "cell_type": "code",
   "execution_count": null,
   "metadata": {},
   "outputs": [],
   "source": [
    "vis.plot_transformed_image(\"data/uploaded_images/wh-auden.jpg\", netG, md.val_ds, tfms=x_tfms)"
   ]
  },
  {
   "cell_type": "code",
   "execution_count": null,
   "metadata": {},
   "outputs": [],
   "source": [
    "vis.plot_transformed_image(\"data/uploaded_images/w-b-yeats.jpg\", netG, md.val_ds, tfms=x_tfms)"
   ]
  },
  {
   "cell_type": "code",
   "execution_count": null,
   "metadata": {},
   "outputs": [],
   "source": [
    "vis.plot_transformed_image(\"data/uploaded_images/marilyn_portrait.jpg\", netG, md.val_ds, tfms=x_tfms)"
   ]
  },
  {
   "cell_type": "code",
   "execution_count": null,
   "metadata": {},
   "outputs": [],
   "source": [
    "vis.plot_transformed_image(\"data/uploaded_images/wilson-slaverevivalmeeting.jpg\", netG, md.val_ds, tfms=x_tfms)"
   ]
  },
  {
   "cell_type": "code",
   "execution_count": null,
   "metadata": {},
   "outputs": [],
   "source": [
    "vis.plot_transformed_image(\"data/uploaded_images/ww1_trench.jpg\", netG, md.val_ds, tfms=x_tfms)"
   ]
  },
  {
   "cell_type": "code",
   "execution_count": null,
   "metadata": {},
   "outputs": [],
   "source": [
    "vis.plot_transformed_image(\"data/uploaded_images/women-bikers.png\", netG, md.val_ds, tfms=x_tfms, sz=450)"
   ]
  },
  {
   "cell_type": "code",
   "execution_count": null,
   "metadata": {},
   "outputs": [],
   "source": [
    "vis.plot_transformed_image(\"data/uploaded_images/Unidentified1855.jpg\", netG, md.val_ds, tfms=x_tfms, sz=400)"
   ]
  },
  {
   "cell_type": "code",
   "execution_count": null,
   "metadata": {},
   "outputs": [],
   "source": [
    "vis.plot_transformed_image(\"data/uploaded_images/skycrapper_lunch.jpg\", netG, md.val_ds, tfms=x_tfms, sz=550)"
   ]
  },
  {
   "cell_type": "code",
   "execution_count": null,
   "metadata": {},
   "outputs": [],
   "source": [
    "vis.plot_transformed_image(\"data/uploaded_images/sioux.jpg\", netG, md.val_ds, tfms=x_tfms, sz=500)"
   ]
  },
  {
   "cell_type": "code",
   "execution_count": null,
   "metadata": {},
   "outputs": [],
   "source": [
    "vis.plot_transformed_image(\"data/uploaded_images/school_kids.jpg\", netG, md.val_ds, tfms=x_tfms, sz=500)"
   ]
  },
  {
   "cell_type": "code",
   "execution_count": null,
   "metadata": {},
   "outputs": [],
   "source": [
    "vis.plot_transformed_image(\"data/uploaded_images/royal_family.jpg\", netG, md.val_ds, tfms=x_tfms)"
   ]
  },
  {
   "cell_type": "code",
   "execution_count": null,
   "metadata": {},
   "outputs": [],
   "source": [
    "vis.plot_transformed_image(\"data/uploaded_images/redwood_lumberjacks.jpg\", netG, md.val_ds, tfms=x_tfms, sz=550)"
   ]
  },
  {
   "cell_type": "code",
   "execution_count": null,
   "metadata": {},
   "outputs": [],
   "source": [
    "vis.plot_transformed_image(\"data/uploaded_images/poverty.jpg\", netG, md.val_ds, tfms=x_tfms,sz=550)"
   ]
  },
  {
   "cell_type": "code",
   "execution_count": null,
   "metadata": {},
   "outputs": [],
   "source": [
    "vis.plot_transformed_image(\"data/uploaded_images/paperboy.jpg\", netG, md.val_ds, tfms=x_tfms, sz=500)"
   ]
  },
  {
   "cell_type": "code",
   "execution_count": null,
   "metadata": {},
   "outputs": [],
   "source": [
    "vis.plot_transformed_image(\"data/uploaded_images/NativeAmericans.jpg\", netG, md.val_ds, tfms=x_tfms)"
   ]
  },
  {
   "cell_type": "code",
   "execution_count": null,
   "metadata": {},
   "outputs": [],
   "source": [
    "vis.plot_transformed_image(\"data/uploaded_images/helmut_newton-.jpg\", netG, md.val_ds, tfms=x_tfms)"
   ]
  },
  {
   "cell_type": "code",
   "execution_count": null,
   "metadata": {},
   "outputs": [],
   "source": [
    "vis.plot_transformed_image(\"data/uploaded_images/Greece1911.jpg\", netG, md.val_ds, tfms=x_tfms)"
   ]
  },
  {
   "cell_type": "code",
   "execution_count": null,
   "metadata": {},
   "outputs": [],
   "source": [
    "vis.plot_transformed_image(\"data/uploaded_images/FatMenClub.jpg\", netG, md.val_ds, tfms=x_tfms)"
   ]
  },
  {
   "cell_type": "code",
   "execution_count": null,
   "metadata": {},
   "outputs": [],
   "source": [
    "vis.plot_transformed_image(\"data/uploaded_images/EgyptColosus.jpg\", netG, md.val_ds, tfms=x_tfms, sz=400)"
   ]
  },
  {
   "cell_type": "code",
   "execution_count": null,
   "metadata": {},
   "outputs": [],
   "source": [
    "vis.plot_transformed_image(\"data/uploaded_images/egypt-2.jpg\", netG, md.val_ds, tfms=x_tfms)"
   ]
  },
  {
   "cell_type": "code",
   "execution_count": null,
   "metadata": {},
   "outputs": [],
   "source": [
    "vis.plot_transformed_image(\"data/uploaded_images/dustbowl_sd.jpg\", netG, md.val_ds, tfms=x_tfms)"
   ]
  },
  {
   "cell_type": "code",
   "execution_count": null,
   "metadata": {},
   "outputs": [],
   "source": [
    "vis.plot_transformed_image(\"data/uploaded_images/dustbowl_people.jpg\", netG, md.val_ds, tfms=x_tfms, sz=500)"
   ]
  },
  {
   "cell_type": "code",
   "execution_count": null,
   "metadata": {},
   "outputs": [],
   "source": [
    "vis.plot_transformed_image(\"data/uploaded_images/dustbowl_5.jpg\", netG, md.val_ds, tfms=x_tfms, sz=450)"
   ]
  },
  {
   "cell_type": "code",
   "execution_count": null,
   "metadata": {},
   "outputs": [],
   "source": [
    "vis.plot_transformed_image(\"data/uploaded_images/dustbowl_1.jpg\", netG, md.val_ds, tfms=x_tfms)"
   ]
  },
  {
   "cell_type": "code",
   "execution_count": null,
   "metadata": {},
   "outputs": [],
   "source": [
    "vis.plot_transformed_image(\"data/uploaded_images/DriveThroughGiantTree.jpg\", netG, md.val_ds, tfms=x_tfms, sz=500)"
   ]
  },
  {
   "cell_type": "code",
   "execution_count": null,
   "metadata": {},
   "outputs": [],
   "source": [
    "vis.plot_transformed_image(\"data/uploaded_images/covered-wagons-traveling.jpg\", netG, md.val_ds, tfms=x_tfms, sz=500)"
   ]
  },
  {
   "cell_type": "code",
   "execution_count": null,
   "metadata": {},
   "outputs": [],
   "source": [
    "vis.plot_transformed_image(\"data/uploaded_images/civil-war_2.jpg\", netG, md.val_ds, tfms=x_tfms)"
   ]
  },
  {
   "cell_type": "code",
   "execution_count": null,
   "metadata": {},
   "outputs": [],
   "source": [
    "vis.plot_transformed_image(\"data/uploaded_images/civil_war_4.jpg\", netG, md.val_ds, tfms=x_tfms, sz=500)"
   ]
  },
  {
   "cell_type": "code",
   "execution_count": null,
   "metadata": {},
   "outputs": [],
   "source": [
    "vis.plot_transformed_image(\"data/uploaded_images/civil_war_3.jpg\", netG, md.val_ds, tfms=x_tfms, sz=550)"
   ]
  },
  {
   "cell_type": "code",
   "execution_count": null,
   "metadata": {},
   "outputs": [],
   "source": [
    "vis.plot_transformed_image(\"data/uploaded_images/civil_war.jpg\", netG, md.val_ds, tfms=x_tfms, sz=540)"
   ]
  },
  {
   "cell_type": "code",
   "execution_count": null,
   "metadata": {},
   "outputs": [],
   "source": [
    "vis.plot_transformed_image(\"data/uploaded_images/BritishSlum.jpg\", netG, md.val_ds, tfms=x_tfms)"
   ]
  },
  {
   "cell_type": "code",
   "execution_count": null,
   "metadata": {},
   "outputs": [],
   "source": [
    "vis.plot_transformed_image(\"data/uploaded_images/bicycles.jpg\", netG, md.val_ds, tfms=x_tfms)"
   ]
  },
  {
   "cell_type": "code",
   "execution_count": null,
   "metadata": {},
   "outputs": [],
   "source": [
    "vis.plot_transformed_image(\"data/uploaded_images/brooklyn_girls_1940s.jpg\", netG, md.val_ds, tfms=x_tfms)"
   ]
  },
  {
   "cell_type": "code",
   "execution_count": null,
   "metadata": {},
   "outputs": [],
   "source": [
    "vis.plot_transformed_image(\"data/uploaded_images/40sCouple.jpg\", netG, md.val_ds, tfms=x_tfms)"
   ]
  },
  {
   "cell_type": "code",
   "execution_count": null,
   "metadata": {},
   "outputs": [],
   "source": [
    "vis.plot_transformed_image(\"data/uploaded_images/1946Wedding.jpg\", netG, md.val_ds, tfms=x_tfms)"
   ]
  },
  {
   "cell_type": "code",
   "execution_count": null,
   "metadata": {},
   "outputs": [],
   "source": [
    "vis.plot_transformed_image(\"data/uploaded_images/Dolores1920s.jpg\", netG, md.val_ds, tfms=x_tfms)"
   ]
  },
  {
   "cell_type": "code",
   "execution_count": null,
   "metadata": {},
   "outputs": [],
   "source": [
    "vis.plot_transformed_image(\"data/uploaded_images/TitanicGym.jpg\", netG, md.val_ds, tfms=x_tfms, sz=550)"
   ]
  },
  {
   "cell_type": "code",
   "execution_count": null,
   "metadata": {},
   "outputs": [],
   "source": [
    "vis.plot_transformed_image(\"data/uploaded_images/FrenchVillage1950s.jpg\", netG, md.val_ds, tfms=x_tfms, sz=440)"
   ]
  },
  {
   "cell_type": "code",
   "execution_count": null,
   "metadata": {},
   "outputs": [],
   "source": [
    "vis.plot_transformed_image(\"data/uploaded_images/ClassDivide1930sBrittain.jpg\", netG, md.val_ds, tfms=x_tfms)"
   ]
  },
  {
   "cell_type": "code",
   "execution_count": null,
   "metadata": {},
   "outputs": [],
   "source": [
    "vis.plot_transformed_image(\"data/uploaded_images/1870sSphinx.jpg\", netG, md.val_ds, tfms=x_tfms)"
   ]
  },
  {
   "cell_type": "code",
   "execution_count": null,
   "metadata": {},
   "outputs": [],
   "source": [
    "vis.plot_transformed_image(\"data/uploaded_images/1890Surfer.png\", netG, md.val_ds, tfms=x_tfms)"
   ]
  },
  {
   "cell_type": "code",
   "execution_count": null,
   "metadata": {},
   "outputs": [],
   "source": [
    "vis.plot_transformed_image(\"data/uploaded_images/TV1930s.jpg\", netG, md.val_ds, tfms=x_tfms, sz=500)"
   ]
  },
  {
   "cell_type": "code",
   "execution_count": null,
   "metadata": {},
   "outputs": [],
   "source": [
    "vis.plot_transformed_image(\"data/uploaded_images/1864UnionSoldier.jpg\", netG, md.val_ds, tfms=x_tfms, sz=510)"
   ]
  },
  {
   "cell_type": "code",
   "execution_count": null,
   "metadata": {},
   "outputs": [],
   "source": [
    "vis.plot_transformed_image(\"data/uploaded_images/1890sMedStudents.png\", netG, md.val_ds, tfms=x_tfms, sz=500)"
   ]
  },
  {
   "cell_type": "code",
   "execution_count": null,
   "metadata": {},
   "outputs": [],
   "source": [
    "vis.plot_transformed_image(\"data/uploaded_images/BellyLaughWWI.jpg\", netG, md.val_ds, tfms=x_tfms)"
   ]
  },
  {
   "cell_type": "code",
   "execution_count": null,
   "metadata": {},
   "outputs": [],
   "source": [
    "vis.plot_transformed_image(\"data/uploaded_images/PiggyBackRide.jpg\", netG, md.val_ds, tfms=x_tfms)"
   ]
  },
  {
   "cell_type": "code",
   "execution_count": null,
   "metadata": {},
   "outputs": [],
   "source": [
    "vis.plot_transformed_image(\"data/uploaded_images/HealingTree.jpg\", netG, md.val_ds, tfms=x_tfms)"
   ]
  },
  {
   "cell_type": "code",
   "execution_count": null,
   "metadata": {},
   "outputs": [],
   "source": [
    "vis.plot_transformed_image(\"data/uploaded_images/ManPile.jpg\", netG, md.val_ds, tfms=x_tfms, sz=450)"
   ]
  },
  {
   "cell_type": "code",
   "execution_count": null,
   "metadata": {},
   "outputs": [],
   "source": [
    "vis.plot_transformed_image(\"data/uploaded_images/1910Bike.jpg\", netG, md.val_ds, tfms=x_tfms, sz=500)"
   ]
  },
  {
   "cell_type": "code",
   "execution_count": null,
   "metadata": {},
   "outputs": [],
   "source": [
    "vis.plot_transformed_image(\"data/uploaded_images/FreeportIL.jpg\", netG, md.val_ds, tfms=x_tfms, sz=402)"
   ]
  },
  {
   "cell_type": "code",
   "execution_count": null,
   "metadata": {},
   "outputs": [],
   "source": [
    "vis.plot_transformed_image(\"data/uploaded_images/DutchBabyCoupleEllis.jpg\", netG, md.val_ds, tfms=x_tfms, sz=500)"
   ]
  },
  {
   "cell_type": "code",
   "execution_count": null,
   "metadata": {},
   "outputs": [],
   "source": [
    "vis.plot_transformed_image(\"data/uploaded_images/InuitWoman1903.png\", netG, md.val_ds, tfms=x_tfms, sz=460)"
   ]
  },
  {
   "cell_type": "code",
   "execution_count": null,
   "metadata": {},
   "outputs": [],
   "source": [
    "vis.plot_transformed_image(\"data/uploaded_images/1920sDancing.jpg\", netG, md.val_ds, tfms=x_tfms)"
   ]
  },
  {
   "cell_type": "code",
   "execution_count": null,
   "metadata": {},
   "outputs": [],
   "source": [
    "vis.plot_transformed_image(\"data/uploaded_images/AirmanDad.jpg\", netG, md.val_ds, tfms=x_tfms)"
   ]
  },
  {
   "cell_type": "code",
   "execution_count": null,
   "metadata": {},
   "outputs": [],
   "source": [
    "vis.plot_transformed_image(\"data/uploaded_images/1910Racket.png\", netG, md.val_ds, tfms=x_tfms, sz=540)"
   ]
  },
  {
   "cell_type": "code",
   "execution_count": null,
   "metadata": {},
   "outputs": [],
   "source": [
    "vis.plot_transformed_image(\"data/uploaded_images/1880Paris.jpg\", netG, md.val_ds, tfms=x_tfms, sz=520)"
   ]
  },
  {
   "cell_type": "code",
   "execution_count": null,
   "metadata": {},
   "outputs": [],
   "source": [
    "vis.plot_transformed_image(\"data/uploaded_images/Deadwood1860s.png\", netG, md.val_ds, tfms=x_tfms)"
   ]
  },
  {
   "cell_type": "code",
   "execution_count": null,
   "metadata": {},
   "outputs": [],
   "source": [
    "vis.plot_transformed_image(\"data/uploaded_images/1860sSamauris.png\", netG, md.val_ds, tfms=x_tfms)"
   ]
  },
  {
   "cell_type": "code",
   "execution_count": null,
   "metadata": {},
   "outputs": [],
   "source": [
    "vis.plot_transformed_image(\"data/uploaded_images/LondonUnderground1860.jpg\", netG, md.val_ds, tfms=x_tfms, sz=460)"
   ]
  },
  {
   "cell_type": "code",
   "execution_count": null,
   "metadata": {},
   "outputs": [],
   "source": [
    "vis.plot_transformed_image(\"data/uploaded_images/Mid1800sSisters.jpg\", netG, md.val_ds, tfms=x_tfms, sz=480)"
   ]
  },
  {
   "cell_type": "code",
   "execution_count": null,
   "metadata": {},
   "outputs": [],
   "source": [
    "vis.plot_transformed_image(\"data/uploaded_images/1860Girls.jpg\", netG, md.val_ds, tfms=x_tfms, sz=500)"
   ]
  },
  {
   "cell_type": "code",
   "execution_count": null,
   "metadata": {},
   "outputs": [],
   "source": [
    "vis.plot_transformed_image(\"data/uploaded_images/SanFran1851.jpg\", netG, md.val_ds, tfms=x_tfms, sz=480)"
   ]
  },
  {
   "cell_type": "code",
   "execution_count": null,
   "metadata": {},
   "outputs": [],
   "source": [
    "vis.plot_transformed_image(\"data/uploaded_images/Kabuki1870s.png\", netG, md.val_ds, tfms=x_tfms,sz=450)"
   ]
  },
  {
   "cell_type": "code",
   "execution_count": null,
   "metadata": {},
   "outputs": [],
   "source": [
    "vis.plot_transformed_image(\"data/uploaded_images/Mormons1870s.jpg\", netG, md.val_ds, tfms=x_tfms)"
   ]
  },
  {
   "cell_type": "code",
   "execution_count": null,
   "metadata": {},
   "outputs": [],
   "source": [
    "vis.plot_transformed_image(\"data/uploaded_images/EgyptianWomenLate1800s.jpg\", netG, md.val_ds, tfms=x_tfms)"
   ]
  },
  {
   "cell_type": "code",
   "execution_count": null,
   "metadata": {},
   "outputs": [],
   "source": [
    "vis.plot_transformed_image(\"data/uploaded_images/PicadillyLate1800s.jpg\", netG, md.val_ds, tfms=x_tfms, sz=540)"
   ]
  },
  {
   "cell_type": "code",
   "execution_count": null,
   "metadata": {},
   "outputs": [],
   "source": [
    "vis.plot_transformed_image(\"data/uploaded_images/SutroBaths1880s.jpg\", netG, md.val_ds, tfms=x_tfms)"
   ]
  },
  {
   "cell_type": "code",
   "execution_count": null,
   "metadata": {},
   "outputs": [],
   "source": [
    "vis.plot_transformed_image(\"data/uploaded_images/1880sBrooklynBridge.jpg\", netG, md.val_ds, tfms=x_tfms)"
   ]
  },
  {
   "cell_type": "code",
   "execution_count": null,
   "metadata": {},
   "outputs": [],
   "source": [
    "vis.plot_transformed_image(\"data/uploaded_images/ChinaOpiumc1880.jpg\", netG, md.val_ds, tfms=x_tfms,sz=500)"
   ]
  },
  {
   "cell_type": "code",
   "execution_count": null,
   "metadata": {},
   "outputs": [],
   "source": [
    "vis.plot_transformed_image(\"data/uploaded_images/Locomotive1880s.jpg\", netG, md.val_ds, tfms=x_tfms)"
   ]
  },
  {
   "cell_type": "code",
   "execution_count": null,
   "metadata": {},
   "outputs": [],
   "source": [
    "vis.plot_transformed_image(\"data/uploaded_images/ViennaBoys1880s.png\", netG, md.val_ds, tfms=x_tfms, sz=500)"
   ]
  },
  {
   "cell_type": "code",
   "execution_count": null,
   "metadata": {},
   "outputs": [],
   "source": [
    "vis.plot_transformed_image(\"data/uploaded_images/VictorianDragQueen1880s.png\", netG, md.val_ds, tfms=x_tfms)"
   ]
  },
  {
   "cell_type": "code",
   "execution_count": null,
   "metadata": {},
   "outputs": [],
   "source": [
    "vis.plot_transformed_image(\"data/uploaded_images/Sami1880s.jpg\", netG, md.val_ds, tfms=x_tfms,sz=420)"
   ]
  },
  {
   "cell_type": "code",
   "execution_count": null,
   "metadata": {},
   "outputs": [],
   "source": [
    "vis.plot_transformed_image(\"data/uploaded_images/ArkansasCowboys1880s.jpg\", netG, md.val_ds, tfms=x_tfms, sz=450)"
   ]
  },
  {
   "cell_type": "code",
   "execution_count": null,
   "metadata": {},
   "outputs": [],
   "source": [
    "vis.plot_transformed_image(\"data/uploaded_images/Ballet1890Russia.jpg\", netG, md.val_ds, tfms=x_tfms, sz=480)"
   ]
  },
  {
   "cell_type": "code",
   "execution_count": null,
   "metadata": {},
   "outputs": [],
   "source": [
    "vis.plot_transformed_image(\"data/uploaded_images/Rottindean1890s.png\", netG, md.val_ds, tfms=x_tfms, sz=540)"
   ]
  },
  {
   "cell_type": "code",
   "execution_count": null,
   "metadata": {},
   "outputs": [],
   "source": [
    "vis.plot_transformed_image(\"data/uploaded_images/1890sPingPong.jpg\", netG, md.val_ds, tfms=x_tfms,sz=500)"
   ]
  },
  {
   "cell_type": "code",
   "execution_count": null,
   "metadata": {},
   "outputs": [],
   "source": [
    "vis.plot_transformed_image(\"data/uploaded_images/London1937.png\", netG, md.val_ds, tfms=x_tfms, sz=500)"
   ]
  },
  {
   "cell_type": "code",
   "execution_count": null,
   "metadata": {},
   "outputs": [],
   "source": [
    "vis.plot_transformed_image(\"data/uploaded_images/Harlem1932.jpg\", netG, md.val_ds, tfms=x_tfms)"
   ]
  },
  {
   "cell_type": "code",
   "execution_count": null,
   "metadata": {},
   "outputs": [],
   "source": [
    "vis.plot_transformed_image(\"data/uploaded_images/OregonTrail1870s.jpg\", netG, md.val_ds, tfms=x_tfms)"
   ]
  },
  {
   "cell_type": "code",
   "execution_count": null,
   "metadata": {},
   "outputs": [],
   "source": [
    "vis.plot_transformed_image(\"data/uploaded_images/EasterNyc1911.jpg\", netG, md.val_ds, tfms=x_tfms, sz=532)"
   ]
  },
  {
   "cell_type": "code",
   "execution_count": null,
   "metadata": {},
   "outputs": [],
   "source": [
    "vis.plot_transformed_image(\"data/uploaded_images/1899NycBlizzard.jpg\", netG, md.val_ds, tfms=x_tfms, sz=500)"
   ]
  },
  {
   "cell_type": "code",
   "execution_count": null,
   "metadata": {},
   "outputs": [],
   "source": [
    "vis.plot_transformed_image(\"data/uploaded_images/1916Sweeden.jpg\", netG, md.val_ds, tfms=x_tfms, sz=520)"
   ]
  },
  {
   "cell_type": "code",
   "execution_count": null,
   "metadata": {},
   "outputs": [],
   "source": [
    "vis.plot_transformed_image(\"data/uploaded_images/Edinburgh1920s.jpg\", netG, md.val_ds, tfms=x_tfms, sz=480)"
   ]
  },
  {
   "cell_type": "code",
   "execution_count": null,
   "metadata": {},
   "outputs": [],
   "source": [
    "vis.plot_transformed_image(\"data/uploaded_images/1890sShoeShopOhio.jpg\", netG, md.val_ds, tfms=x_tfms, sz=500)"
   ]
  },
  {
   "cell_type": "code",
   "execution_count": null,
   "metadata": {},
   "outputs": [],
   "source": [
    "vis.plot_transformed_image(\"data/uploaded_images/1890sTouristsEgypt.png\", netG, md.val_ds, tfms=x_tfms, sz=570)"
   ]
  },
  {
   "cell_type": "code",
   "execution_count": null,
   "metadata": {},
   "outputs": [],
   "source": [
    "vis.plot_transformed_image(\"data/uploaded_images/1938Reading.jpg\", netG, md.val_ds, tfms=x_tfms, sz=455)"
   ]
  },
  {
   "cell_type": "code",
   "execution_count": null,
   "metadata": {},
   "outputs": [],
   "source": [
    "vis.plot_transformed_image(\"data/uploaded_images/1850Geography.jpg\", netG, md.val_ds, tfms=x_tfms, sz=540)"
   ]
  },
  {
   "cell_type": "code",
   "execution_count": null,
   "metadata": {},
   "outputs": [],
   "source": [
    "vis.plot_transformed_image(\"data/uploaded_images/1901Electrophone.jpg\", netG, md.val_ds, tfms=x_tfms, sz=500)"
   ]
  },
  {
   "cell_type": "code",
   "execution_count": null,
   "metadata": {},
   "outputs": [],
   "source": [
    "vis.plot_transformed_image(\"data/uploaded_images/Texas1938Woman.png\", netG, md.val_ds, tfms=x_tfms, sz=520)"
   ]
  },
  {
   "cell_type": "code",
   "execution_count": null,
   "metadata": {},
   "outputs": [],
   "source": [
    "vis.plot_transformed_image(\"data/uploaded_images/MaioreWoman1895NZ.jpg\", netG, md.val_ds, tfms=x_tfms, sz=520)"
   ]
  },
  {
   "cell_type": "code",
   "execution_count": null,
   "metadata": {},
   "outputs": [],
   "source": [
    "vis.plot_transformed_image(\"data/uploaded_images/WestVirginiaHouse.jpg\", netG, md.val_ds, tfms=x_tfms, sz=520)"
   ]
  },
  {
   "cell_type": "code",
   "execution_count": null,
   "metadata": {},
   "outputs": [],
   "source": [
    "vis.plot_transformed_image(\"data/uploaded_images/1920sGuadalope.jpg\", netG, md.val_ds, tfms=x_tfms)"
   ]
  },
  {
   "cell_type": "code",
   "execution_count": null,
   "metadata": {},
   "outputs": [],
   "source": [
    "vis.plot_transformed_image(\"data/uploaded_images/1909Chicago.jpg\", netG, md.val_ds, tfms=x_tfms, sz=540)"
   ]
  },
  {
   "cell_type": "code",
   "execution_count": null,
   "metadata": {},
   "outputs": [],
   "source": [
    "vis.plot_transformed_image(\"data/uploaded_images/1920sFarmKid.jpg\", netG, md.val_ds, tfms=x_tfms)"
   ]
  },
  {
   "cell_type": "code",
   "execution_count": null,
   "metadata": {},
   "outputs": [],
   "source": [
    "vis.plot_transformed_image(\"data/uploaded_images/ParisLate1800s.jpg\", netG, md.val_ds, tfms=x_tfms,sz=410)"
   ]
  },
  {
   "cell_type": "code",
   "execution_count": null,
   "metadata": {},
   "outputs": [],
   "source": [
    "vis.plot_transformed_image(\"data/uploaded_images/1900sDaytonaBeach.png\", netG, md.val_ds, tfms=x_tfms)"
   ]
  },
  {
   "cell_type": "code",
   "execution_count": null,
   "metadata": {},
   "outputs": [],
   "source": [
    "vis.plot_transformed_image(\"data/uploaded_images/1930sGeorgia.jpg\", netG, md.val_ds, tfms=x_tfms)"
   ]
  },
  {
   "cell_type": "code",
   "execution_count": null,
   "metadata": {},
   "outputs": [],
   "source": [
    "vis.plot_transformed_image(\"data/uploaded_images/NorwegianBride1920s.jpg\", netG, md.val_ds, tfms=x_tfms, sz=550)"
   ]
  },
  {
   "cell_type": "code",
   "execution_count": null,
   "metadata": {},
   "outputs": [],
   "source": [
    "vis.plot_transformed_image(\"data/uploaded_images/Depression.jpg\", netG, md.val_ds, tfms=x_tfms)"
   ]
  },
  {
   "cell_type": "code",
   "execution_count": null,
   "metadata": {},
   "outputs": [],
   "source": [
    "vis.plot_transformed_image(\"data/uploaded_images/1888Slum.jpg\", netG, md.val_ds, tfms=x_tfms)"
   ]
  },
  {
   "cell_type": "code",
   "execution_count": null,
   "metadata": {},
   "outputs": [],
   "source": [
    "vis.plot_transformed_image(\"data/uploaded_images/LivingRoom1920Sweeden.jpg\", netG, md.val_ds, tfms=x_tfms, sz=540)"
   ]
  },
  {
   "cell_type": "code",
   "execution_count": null,
   "metadata": {},
   "outputs": [],
   "source": [
    "vis.plot_transformed_image(\"data/uploaded_images/1896NewsBoyGirl.jpg\", netG, md.val_ds, tfms=x_tfms)"
   ]
  },
  {
   "cell_type": "code",
   "execution_count": null,
   "metadata": {},
   "outputs": [],
   "source": [
    "vis.plot_transformed_image(\"data/uploaded_images/PetDucks1927.jpg\", netG, md.val_ds, tfms=x_tfms, sz=400)"
   ]
  },
  {
   "cell_type": "code",
   "execution_count": null,
   "metadata": {},
   "outputs": [],
   "source": [
    "vis.plot_transformed_image(\"data/uploaded_images/1899SodaFountain.jpg\", netG, md.val_ds, tfms=x_tfms, sz=640)"
   ]
  },
  {
   "cell_type": "code",
   "execution_count": null,
   "metadata": {},
   "outputs": [],
   "source": [
    "vis.plot_transformed_image(\"data/uploaded_images/TimesSquare1955.jpg\", netG, md.val_ds, tfms=x_tfms)"
   ]
  },
  {
   "cell_type": "code",
   "execution_count": null,
   "metadata": {},
   "outputs": [],
   "source": [
    "vis.plot_transformed_image(\"data/uploaded_images/PuppyGify.jpg\", netG, md.val_ds, tfms=x_tfms, sz=510)"
   ]
  },
  {
   "cell_type": "code",
   "execution_count": null,
   "metadata": {},
   "outputs": [],
   "source": [
    "vis.plot_transformed_image(\"data/uploaded_images/1890CliffHouseSF.jpg\", netG, md.val_ds, tfms=x_tfms, sz=590)"
   ]
  },
  {
   "cell_type": "code",
   "execution_count": null,
   "metadata": {},
   "outputs": [],
   "source": [
    "vis.plot_transformed_image(\"data/uploaded_images/1908FamilyPhoto.jpg\", netG, md.val_ds, tfms=x_tfms, sz=520)"
   ]
  },
  {
   "cell_type": "code",
   "execution_count": null,
   "metadata": {},
   "outputs": [],
   "source": [
    "vis.plot_transformed_image(\"data/uploaded_images/1900sSaloon.jpg\", netG, md.val_ds, tfms=x_tfms, sz=560)"
   ]
  },
  {
   "cell_type": "code",
   "execution_count": null,
   "metadata": {},
   "outputs": [],
   "source": [
    "vis.plot_transformed_image(\"data/uploaded_images/1890BostonHospital.jpg\", netG, md.val_ds, tfms=x_tfms,sz=500)"
   ]
  },
  {
   "cell_type": "code",
   "execution_count": null,
   "metadata": {},
   "outputs": [],
   "source": [
    "vis.plot_transformed_image(\"data/uploaded_images/1870Girl.jpg\", netG, md.val_ds, tfms=x_tfms, sz=450)"
   ]
  },
  {
   "cell_type": "code",
   "execution_count": null,
   "metadata": {},
   "outputs": [],
   "source": [
    "vis.plot_transformed_image(\"data/uploaded_images/AustriaHungaryWomen1890s.jpg\", netG, md.val_ds, tfms=x_tfms)"
   ]
  },
  {
   "cell_type": "code",
   "execution_count": null,
   "metadata": {},
   "outputs": [],
   "source": [
    "vis.plot_transformed_image(\"data/uploaded_images/Shack.jpg\", netG, md.val_ds, tfms=x_tfms, sz=500)"
   ]
  },
  {
   "cell_type": "code",
   "execution_count": null,
   "metadata": {},
   "outputs": [],
   "source": [
    "vis.plot_transformed_image(\"data/uploaded_images/Apsaroke1908.png\", netG, md.val_ds, tfms=x_tfms, sz=400)"
   ]
  },
  {
   "cell_type": "code",
   "execution_count": null,
   "metadata": {},
   "outputs": [],
   "source": [
    "vis.plot_transformed_image(\"data/uploaded_images/1948CarsGrandma.jpg\", netG, md.val_ds, tfms=x_tfms)"
   ]
  },
  {
   "cell_type": "code",
   "execution_count": null,
   "metadata": {},
   "outputs": [],
   "source": [
    "vis.plot_transformed_image(\"data/uploaded_images/PlanesManhattan1931.jpg\", netG, md.val_ds, tfms=x_tfms)"
   ]
  },
  {
   "cell_type": "code",
   "execution_count": null,
   "metadata": {},
   "outputs": [],
   "source": [
    "vis.plot_transformed_image(\"data/uploaded_images/WorriedKid1940sNyc.jpg\", netG, md.val_ds, tfms=x_tfms)"
   ]
  },
  {
   "cell_type": "code",
   "execution_count": null,
   "metadata": {},
   "outputs": [],
   "source": [
    "vis.plot_transformed_image(\"data/uploaded_images/1920sFamilyPhoto.jpg\", netG, md.val_ds, tfms=x_tfms, sz=550)"
   ]
  },
  {
   "cell_type": "code",
   "execution_count": null,
   "metadata": {},
   "outputs": [],
   "source": [
    "vis.plot_transformed_image(\"data/uploaded_images/CatWash1931.jpg\", netG, md.val_ds, tfms=x_tfms)"
   ]
  },
  {
   "cell_type": "code",
   "execution_count": null,
   "metadata": {},
   "outputs": [],
   "source": [
    "vis.plot_transformed_image(\"data/uploaded_images/1940sBeerRiver.jpg\", netG, md.val_ds, tfms=x_tfms, sz=400)"
   ]
  },
  {
   "cell_type": "code",
   "execution_count": null,
   "metadata": {},
   "outputs": [],
   "source": [
    "vis.plot_transformed_image(\"data/uploaded_images/VictorianLivingRoom.jpg\", netG, md.val_ds, tfms=x_tfms, sz=560)"
   ]
  },
  {
   "cell_type": "code",
   "execution_count": null,
   "metadata": {},
   "outputs": [],
   "source": [
    "vis.plot_transformed_image(\"data/uploaded_images/1897BlindmansBluff.jpg\", netG, md.val_ds, tfms=x_tfms)"
   ]
  },
  {
   "cell_type": "code",
   "execution_count": null,
   "metadata": {},
   "outputs": [],
   "source": [
    "vis.plot_transformed_image(\"data/uploaded_images/1874Mexico.png\", netG, md.val_ds, tfms=x_tfms)"
   ]
  },
  {
   "cell_type": "code",
   "execution_count": null,
   "metadata": {},
   "outputs": [],
   "source": [
    "vis.plot_transformed_image(\"data/uploaded_images/MadisonSquare1900.jpg\", netG, md.val_ds, tfms=x_tfms, sz=450)"
   ]
  },
  {
   "cell_type": "code",
   "execution_count": null,
   "metadata": {},
   "outputs": [],
   "source": [
    "vis.plot_transformed_image(\"data/uploaded_images/1867MusicianConstantinople.jpg\", netG, md.val_ds, tfms=x_tfms, sz=550)"
   ]
  },
  {
   "cell_type": "code",
   "execution_count": null,
   "metadata": {},
   "outputs": [],
   "source": [
    "vis.plot_transformed_image(\"data/uploaded_images/1925Girl.jpg\", netG, md.val_ds, tfms=x_tfms, sz=500)"
   ]
  },
  {
   "cell_type": "code",
   "execution_count": null,
   "metadata": {},
   "outputs": [],
   "source": [
    "vis.plot_transformed_image(\"data/uploaded_images/1907Cowboys.jpg\", netG, md.val_ds, tfms=x_tfms, sz=500)"
   ]
  },
  {
   "cell_type": "code",
   "execution_count": null,
   "metadata": {},
   "outputs": [],
   "source": [
    "vis.plot_transformed_image(\"data/uploaded_images/WWIIPeeps.jpg\", netG, md.val_ds, tfms=x_tfms, sz=460)"
   ]
  },
  {
   "cell_type": "code",
   "execution_count": null,
   "metadata": {},
   "outputs": [],
   "source": [
    "vis.plot_transformed_image(\"data/uploaded_images/BabyBigBoots.jpg\", netG, md.val_ds, tfms=x_tfms)"
   ]
  },
  {
   "cell_type": "code",
   "execution_count": null,
   "metadata": {},
   "outputs": [],
   "source": [
    "vis.plot_transformed_image(\"data/uploaded_images/1895BikeMaidens.jpg\", netG, md.val_ds, tfms=x_tfms, sz=500)"
   ]
  },
  {
   "cell_type": "code",
   "execution_count": null,
   "metadata": {},
   "outputs": [],
   "source": [
    "vis.plot_transformed_image(\"data/uploaded_images/IrishLate1800s.jpg\", netG, md.val_ds, tfms=x_tfms,sz=500)"
   ]
  },
  {
   "cell_type": "code",
   "execution_count": null,
   "metadata": {},
   "outputs": [],
   "source": [
    "vis.plot_transformed_image(\"data/uploaded_images/LibraryOfCongress1910.jpg\", netG, md.val_ds, tfms=x_tfms,sz=520)"
   ]
  },
  {
   "cell_type": "code",
   "execution_count": null,
   "metadata": {},
   "outputs": [],
   "source": [
    "vis.plot_transformed_image(\"data/uploaded_images/1875Olds.jpg\", netG, md.val_ds, tfms=x_tfms, sz=520)"
   ]
  },
  {
   "cell_type": "code",
   "execution_count": null,
   "metadata": {},
   "outputs": [],
   "source": [
    "vis.plot_transformed_image(\"data/uploaded_images/SenecaNative1908.jpg\", netG, md.val_ds, tfms=x_tfms)"
   ]
  },
  {
   "cell_type": "code",
   "execution_count": null,
   "metadata": {},
   "outputs": [],
   "source": [
    "vis.plot_transformed_image(\"data/uploaded_images/WWIHospital.jpg\", netG, md.val_ds, tfms=x_tfms)"
   ]
  },
  {
   "cell_type": "code",
   "execution_count": null,
   "metadata": {},
   "outputs": [],
   "source": [
    "vis.plot_transformed_image(\"data/uploaded_images/GreekImmigrants1905.jpg\", netG, md.val_ds, tfms=x_tfms)"
   ]
  },
  {
   "cell_type": "code",
   "execution_count": null,
   "metadata": {},
   "outputs": [],
   "source": [
    "vis.plot_transformed_image(\"data/uploaded_images/1892WaterLillies.jpg\", netG, md.val_ds, tfms=x_tfms)"
   ]
  },
  {
   "cell_type": "code",
   "execution_count": null,
   "metadata": {},
   "outputs": [],
   "source": [
    "vis.plot_transformed_image(\"data/uploaded_images/GreekImmigrants1905.jpg\", netG, md.val_ds, tfms=x_tfms)"
   ]
  },
  {
   "cell_type": "code",
   "execution_count": null,
   "metadata": {},
   "outputs": [],
   "source": [
    "vis.plot_transformed_image(\"data/uploaded_images/FatMensShop.jpg\", netG, md.val_ds, tfms=x_tfms)"
   ]
  },
  {
   "cell_type": "code",
   "execution_count": null,
   "metadata": {},
   "outputs": [],
   "source": [
    "vis.plot_transformed_image(\"data/uploaded_images/KidCage1930s.jpg\", netG, md.val_ds, tfms=x_tfms)"
   ]
  },
  {
   "cell_type": "code",
   "execution_count": null,
   "metadata": {},
   "outputs": [],
   "source": [
    "vis.plot_transformed_image(\"data/uploaded_images/FarmWomen1895.jpg\", netG, md.val_ds, tfms=x_tfms)"
   ]
  },
  {
   "cell_type": "code",
   "execution_count": null,
   "metadata": {},
   "outputs": [],
   "source": [
    "vis.plot_transformed_image(\"data/uploaded_images/NewZealand1860s.jpg\", netG, md.val_ds, tfms=x_tfms)"
   ]
  },
  {
   "cell_type": "code",
   "execution_count": null,
   "metadata": {},
   "outputs": [],
   "source": [
    "vis.plot_transformed_image(\"data/uploaded_images/JerseyShore1905.jpg\", netG, md.val_ds, tfms=x_tfms)"
   ]
  },
  {
   "cell_type": "code",
   "execution_count": null,
   "metadata": {},
   "outputs": [],
   "source": [
    "vis.plot_transformed_image(\"data/uploaded_images/LondonKidsEarly1900s.jpg\", netG, md.val_ds, tfms=x_tfms)"
   ]
  },
  {
   "cell_type": "code",
   "execution_count": null,
   "metadata": {},
   "outputs": [],
   "source": [
    "vis.plot_transformed_image(\"data/uploaded_images/NYStreetClean1906.jpg\", netG, md.val_ds, tfms=x_tfms)"
   ]
  },
  {
   "cell_type": "code",
   "execution_count": null,
   "metadata": {},
   "outputs": [],
   "source": [
    "vis.plot_transformed_image(\"data/uploaded_images/Boston1937.jpg\", netG, md.val_ds, tfms=x_tfms)"
   ]
  },
  {
   "cell_type": "code",
   "execution_count": null,
   "metadata": {},
   "outputs": [],
   "source": [
    "vis.plot_transformed_image(\"data/uploaded_images/Cork1905.jpg\", netG, md.val_ds, tfms=x_tfms)"
   ]
  },
  {
   "cell_type": "code",
   "execution_count": null,
   "metadata": {},
   "outputs": [],
   "source": [
    "vis.plot_transformed_image(\"data/uploaded_images/BoxedBedEarly1900s.jpg\", netG, md.val_ds, tfms=x_tfms)"
   ]
  },
  {
   "cell_type": "code",
   "execution_count": null,
   "metadata": {},
   "outputs": [],
   "source": [
    "vis.plot_transformed_image(\"data/uploaded_images/ZoologischerGarten1898.jpg\", netG, md.val_ds, tfms=x_tfms)"
   ]
  },
  {
   "cell_type": "code",
   "execution_count": null,
   "metadata": {},
   "outputs": [],
   "source": [
    "vis.plot_transformed_image(\"data/uploaded_images/EmpireState1930.jpg\", netG, md.val_ds, tfms=x_tfms)"
   ]
  },
  {
   "cell_type": "code",
   "execution_count": null,
   "metadata": {},
   "outputs": [],
   "source": [
    "vis.plot_transformed_image(\"data/uploaded_images/Agamemnon1919.jpg\", netG, md.val_ds, tfms=x_tfms)"
   ]
  },
  {
   "cell_type": "code",
   "execution_count": null,
   "metadata": {},
   "outputs": [],
   "source": [
    "vis.plot_transformed_image(\"data/uploaded_images/AppalachianLoggers1901.jpg\", netG, md.val_ds, tfms=x_tfms)"
   ]
  },
  {
   "cell_type": "code",
   "execution_count": null,
   "metadata": {},
   "outputs": [],
   "source": [
    "vis.plot_transformed_image(\"data/uploaded_images/WWISikhs.jpg\", netG, md.val_ds, tfms=x_tfms)"
   ]
  },
  {
   "cell_type": "code",
   "execution_count": null,
   "metadata": {},
   "outputs": [],
   "source": [
    "vis.plot_transformed_image(\"data/uploaded_images/MementoMori1865.jpg\", netG, md.val_ds, tfms=x_tfms)"
   ]
  },
  {
   "cell_type": "code",
   "execution_count": null,
   "metadata": {},
   "outputs": [],
   "source": [
    "vis.plot_transformed_image(\"data/uploaded_images/RepBrennanRadio1922.jpg\", netG, md.val_ds, tfms=x_tfms)"
   ]
  },
  {
   "cell_type": "code",
   "execution_count": null,
   "metadata": {},
   "outputs": [],
   "source": [
    "vis.plot_transformed_image(\"data/uploaded_images/Late1800sNative.jpg\", netG, md.val_ds, tfms=x_tfms)"
   ]
  },
  {
   "cell_type": "code",
   "execution_count": null,
   "metadata": {},
   "outputs": [],
   "source": [
    "vis.plot_transformed_image(\"data/uploaded_images/GasPrices1939.jpg\", netG, md.val_ds, tfms=x_tfms)"
   ]
  },
  {
   "cell_type": "code",
   "execution_count": null,
   "metadata": {},
   "outputs": [],
   "source": [
    "vis.plot_transformed_image(\"data/uploaded_images/1939RockefellerCenter.jpg\", netG, md.val_ds, tfms=x_tfms)"
   ]
  },
  {
   "cell_type": "code",
   "execution_count": null,
   "metadata": {},
   "outputs": [],
   "source": [
    "vis.plot_transformed_image(\"data/uploaded_images/Scotland1919.jpg\", netG, md.val_ds, tfms=x_tfms)"
   ]
  },
  {
   "cell_type": "code",
   "execution_count": null,
   "metadata": {},
   "outputs": [],
   "source": [
    "vis.plot_transformed_image(\"data/uploaded_images/SchoolDance1956.jpg\", netG, md.val_ds, tfms=x_tfms)"
   ]
  },
  {
   "cell_type": "code",
   "execution_count": null,
   "metadata": {},
   "outputs": [],
   "source": []
  },
  {
   "cell_type": "code",
   "execution_count": null,
   "metadata": {},
   "outputs": [],
   "source": []
  },
  {
   "cell_type": "code",
   "execution_count": null,
   "metadata": {},
   "outputs": [],
   "source": []
  },
  {
   "cell_type": "code",
   "execution_count": null,
   "metadata": {},
   "outputs": [],
   "source": []
  }
 ],
 "metadata": {
  "kernelspec": {
   "display_name": "Python 3",
   "language": "python",
   "name": "python3"
  },
  "language_info": {
   "codemirror_mode": {
    "name": "ipython",
    "version": 3
   },
   "file_extension": ".py",
   "mimetype": "text/x-python",
   "name": "python",
   "nbconvert_exporter": "python",
   "pygments_lexer": "ipython3",
   "version": "3.6.5"
  },
  "toc": {
   "colors": {
    "hover_highlight": "#DAA520",
    "navigate_num": "#000000",
    "navigate_text": "#333333",
    "running_highlight": "#FF0000",
    "selected_highlight": "#FFD700",
    "sidebar_border": "#EEEEEE",
    "wrapper_background": "#FFFFFF"
   },
   "moveMenuLeft": true,
   "nav_menu": {
    "height": "67px",
    "width": "252px"
   },
   "navigate_menu": true,
   "number_sections": true,
   "sideBar": true,
   "threshold": 4,
   "toc_cell": false,
   "toc_section_display": "block",
   "toc_window_display": false,
   "widenNotebook": false
  }
 },
 "nbformat": 4,
 "nbformat_minor": 2
}
